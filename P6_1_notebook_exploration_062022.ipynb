{
 "cells": [
  {
   "cell_type": "code",
   "execution_count": 1,
   "id": "ff2e6f9d",
   "metadata": {},
   "outputs": [],
   "source": [
    "## Plan du Notebook (recherchez #i)\n",
    "#1 Import\n",
    "#2 Lecture du fichier de données récupéré par requête sur le site\n",
    "#3 Transformation des données Title et Body\n",
    "#4 Transformation des tags\n",
    "#5 Limitation des tags aux 100 les plus fréquents\n",
    "#6 Séparation du jeu de données en train / test\n",
    "#7 Bag of words : CountVectorizer/gensim\n",
    "#8 Bag of words : tfidfmodel\n",
    "#9 Sauvegarde des différentes objets pour utilisation dans le notebook de modélisation"
   ]
  },
  {
   "cell_type": "code",
   "execution_count": 2,
   "id": "22723ca9",
   "metadata": {},
   "outputs": [
    {
     "name": "stderr",
     "output_type": "stream",
     "text": [
      "[nltk_data] Downloading package punkt to\n",
      "[nltk_data]     C:\\Users\\devra\\AppData\\Roaming\\nltk_data...\n",
      "[nltk_data]   Package punkt is already up-to-date!\n",
      "[nltk_data] Downloading package stopwords to\n",
      "[nltk_data]     C:\\Users\\devra\\AppData\\Roaming\\nltk_data...\n",
      "[nltk_data]   Package stopwords is already up-to-date!\n",
      "[nltk_data] Downloading package wordnet to\n",
      "[nltk_data]     C:\\Users\\devra\\AppData\\Roaming\\nltk_data...\n",
      "[nltk_data]   Package wordnet is already up-to-date!\n",
      "[nltk_data] Downloading package omw-1.4 to\n",
      "[nltk_data]     C:\\Users\\devra\\AppData\\Roaming\\nltk_data...\n"
     ]
    }
   ],
   "source": [
    "#1 Import\n",
    "import numpy as np\n",
    "import pandas as pd\n",
    "%matplotlib inline\n",
    "import matplotlib.pyplot as plt\n",
    "import seaborn as sns\n",
    "from bs4 import BeautifulSoup\n",
    "import gensim\n",
    "import spacy\n",
    "import string\n",
    "import re\n",
    "from nltk.corpus import stopwords\n",
    "import nltk\n",
    "nltk.download('punkt')\n",
    "nltk.download('stopwords')\n",
    "nltk.download('wordnet')\n",
    "nltk.download('omw-1.4')\n",
    "from nltk.stem import WordNetLemmatizer\n",
    "from nltk.stem.snowball import EnglishStemmer\n",
    "from sklearn.model_selection import train_test_split\n",
    "import gensim.corpora as corpora\n",
    "from gensim.models import TfidfModel\n",
    "from joblib import dump, load\n",
    "import pickle\n",
    "from wordcloud import WordCloud"
   ]
  },
  {
   "cell_type": "code",
   "execution_count": 3,
   "id": "9cb49acc",
   "metadata": {},
   "outputs": [],
   "source": [
    "#2 Lecture du fichier de données récupéré par requête sur le site\n",
    "raw_data0 = pd.read_csv('QueryResults.csv')"
   ]
  },
  {
   "cell_type": "code",
   "execution_count": 4,
   "id": "e47f598f",
   "metadata": {},
   "outputs": [
    {
     "data": {
      "text/html": [
       "<div>\n",
       "<style scoped>\n",
       "    .dataframe tbody tr th:only-of-type {\n",
       "        vertical-align: middle;\n",
       "    }\n",
       "\n",
       "    .dataframe tbody tr th {\n",
       "        vertical-align: top;\n",
       "    }\n",
       "\n",
       "    .dataframe thead th {\n",
       "        text-align: right;\n",
       "    }\n",
       "</style>\n",
       "<table border=\"1\" class=\"dataframe\">\n",
       "  <thead>\n",
       "    <tr style=\"text-align: right;\">\n",
       "      <th></th>\n",
       "      <th>Title</th>\n",
       "      <th>Body</th>\n",
       "      <th>Tags</th>\n",
       "      <th>Id</th>\n",
       "      <th>Score</th>\n",
       "      <th>ViewCount</th>\n",
       "      <th>FavoriteCount</th>\n",
       "      <th>AnswerCount</th>\n",
       "    </tr>\n",
       "  </thead>\n",
       "  <tbody>\n",
       "    <tr>\n",
       "      <th>0</th>\n",
       "      <td>mqtt async wait for concurrent messages then r...</td>\n",
       "      <td>&lt;p&gt;I have this process for home automation pro...</td>\n",
       "      <td>&lt;javascript&gt;&lt;node.js&gt;&lt;http&gt;&lt;async-await&gt;&lt;mqtt&gt;</td>\n",
       "      <td>54553853</td>\n",
       "      <td>1</td>\n",
       "      <td>1286</td>\n",
       "      <td>1</td>\n",
       "      <td>1</td>\n",
       "    </tr>\n",
       "    <tr>\n",
       "      <th>1</th>\n",
       "      <td>Where can I find a nice .NET Tab Control for f...</td>\n",
       "      <td>&lt;p&gt;I'm doing this application in C# using the ...</td>\n",
       "      <td>&lt;c#&gt;&lt;.net&gt;&lt;winforms&gt;&lt;tabcontrol&gt;&lt;krypton&gt;</td>\n",
       "      <td>712530</td>\n",
       "      <td>11</td>\n",
       "      <td>22118</td>\n",
       "      <td>5</td>\n",
       "      <td>6</td>\n",
       "    </tr>\n",
       "    <tr>\n",
       "      <th>2</th>\n",
       "      <td>How to smoothly move a button in cocos2d Xcode</td>\n",
       "      <td>&lt;p&gt;I have a jump button, that when clicked the...</td>\n",
       "      <td>&lt;iphone&gt;&lt;ios&gt;&lt;cocoa&gt;&lt;opengl-es&gt;&lt;cocos2d-iphone&gt;</td>\n",
       "      <td>18655261</td>\n",
       "      <td>4</td>\n",
       "      <td>263</td>\n",
       "      <td>1</td>\n",
       "      <td>2</td>\n",
       "    </tr>\n",
       "    <tr>\n",
       "      <th>3</th>\n",
       "      <td>How to get NSImage of generic folder icon on O...</td>\n",
       "      <td>&lt;p&gt;I'm writing a Cocoa application that displa...</td>\n",
       "      <td>&lt;objective-c&gt;&lt;cocoa&gt;&lt;icons&gt;&lt;directory&gt;&lt;nsimage&gt;</td>\n",
       "      <td>1441946</td>\n",
       "      <td>13</td>\n",
       "      <td>4639</td>\n",
       "      <td>3</td>\n",
       "      <td>1</td>\n",
       "    </tr>\n",
       "    <tr>\n",
       "      <th>4</th>\n",
       "      <td>Replace query string with '/' via .htaccess file</td>\n",
       "      <td>&lt;p&gt;&lt;a href=\"http://thewebsitedemo.com/Just-dia...</td>\n",
       "      <td>&lt;php&gt;&lt;string&gt;&lt;.htaccess&gt;&lt;url&gt;&lt;replace&gt;</td>\n",
       "      <td>20902469</td>\n",
       "      <td>0</td>\n",
       "      <td>87</td>\n",
       "      <td>1</td>\n",
       "      <td>1</td>\n",
       "    </tr>\n",
       "  </tbody>\n",
       "</table>\n",
       "</div>"
      ],
      "text/plain": [
       "                                               Title  \\\n",
       "0  mqtt async wait for concurrent messages then r...   \n",
       "1  Where can I find a nice .NET Tab Control for f...   \n",
       "2     How to smoothly move a button in cocos2d Xcode   \n",
       "3  How to get NSImage of generic folder icon on O...   \n",
       "4   Replace query string with '/' via .htaccess file   \n",
       "\n",
       "                                                Body  \\\n",
       "0  <p>I have this process for home automation pro...   \n",
       "1  <p>I'm doing this application in C# using the ...   \n",
       "2  <p>I have a jump button, that when clicked the...   \n",
       "3  <p>I'm writing a Cocoa application that displa...   \n",
       "4  <p><a href=\"http://thewebsitedemo.com/Just-dia...   \n",
       "\n",
       "                                              Tags        Id  Score  \\\n",
       "0   <javascript><node.js><http><async-await><mqtt>  54553853      1   \n",
       "1        <c#><.net><winforms><tabcontrol><krypton>    712530     11   \n",
       "2  <iphone><ios><cocoa><opengl-es><cocos2d-iphone>  18655261      4   \n",
       "3  <objective-c><cocoa><icons><directory><nsimage>   1441946     13   \n",
       "4           <php><string><.htaccess><url><replace>  20902469      0   \n",
       "\n",
       "   ViewCount  FavoriteCount  AnswerCount  \n",
       "0       1286              1            1  \n",
       "1      22118              5            6  \n",
       "2        263              1            2  \n",
       "3       4639              3            1  \n",
       "4         87              1            1  "
      ]
     },
     "execution_count": 4,
     "metadata": {},
     "output_type": "execute_result"
    }
   ],
   "source": [
    "raw_data0.head(5)"
   ]
  },
  {
   "cell_type": "code",
   "execution_count": 5,
   "id": "8c35d40a",
   "metadata": {},
   "outputs": [
    {
     "name": "stdout",
     "output_type": "stream",
     "text": [
      "<class 'pandas.core.frame.DataFrame'>\n",
      "RangeIndex: 50000 entries, 0 to 49999\n",
      "Data columns (total 8 columns):\n",
      " #   Column         Non-Null Count  Dtype \n",
      "---  ------         --------------  ----- \n",
      " 0   Title          50000 non-null  object\n",
      " 1   Body           50000 non-null  object\n",
      " 2   Tags           50000 non-null  object\n",
      " 3   Id             50000 non-null  int64 \n",
      " 4   Score          50000 non-null  int64 \n",
      " 5   ViewCount      50000 non-null  int64 \n",
      " 6   FavoriteCount  50000 non-null  int64 \n",
      " 7   AnswerCount    50000 non-null  int64 \n",
      "dtypes: int64(5), object(3)\n",
      "memory usage: 3.1+ MB\n"
     ]
    }
   ],
   "source": [
    "raw_data0.info()"
   ]
  },
  {
   "cell_type": "code",
   "execution_count": 6,
   "id": "688a8d7f",
   "metadata": {},
   "outputs": [],
   "source": [
    "#Seules sont prises en compte les données Title, Body et Tags\n",
    "raw_data = raw_data0[['Title','Body','Tags']].copy()"
   ]
  },
  {
   "cell_type": "code",
   "execution_count": 7,
   "id": "a238929f",
   "metadata": {},
   "outputs": [
    {
     "name": "stdout",
     "output_type": "stream",
     "text": [
      "<class 'pandas.core.frame.DataFrame'>\n",
      "RangeIndex: 50000 entries, 0 to 49999\n",
      "Data columns (total 3 columns):\n",
      " #   Column  Non-Null Count  Dtype \n",
      "---  ------  --------------  ----- \n",
      " 0   Title   50000 non-null  object\n",
      " 1   Body    50000 non-null  object\n",
      " 2   Tags    50000 non-null  object\n",
      "dtypes: object(3)\n",
      "memory usage: 1.1+ MB\n"
     ]
    }
   ],
   "source": [
    "raw_data.info()"
   ]
  },
  {
   "cell_type": "code",
   "execution_count": 8,
   "id": "d9a360d7",
   "metadata": {},
   "outputs": [
    {
     "data": {
      "text/plain": [
       "0.0"
      ]
     },
     "execution_count": 8,
     "metadata": {},
     "output_type": "execute_result"
    }
   ],
   "source": [
    "# % de valeurs manquantes sur tout le dataframe\n",
    "taux_var_incomplete = raw_data.isnull().sum().sum() / len(raw_data) / len(raw_data.columns) * 100\n",
    "taux_var_incomplete"
   ]
  },
  {
   "cell_type": "code",
   "execution_count": 9,
   "id": "51b2dc79",
   "metadata": {},
   "outputs": [],
   "source": [
    "#3 Transformation des données Title et Body"
   ]
  },
  {
   "cell_type": "code",
   "execution_count": 10,
   "id": "de5454e5",
   "metadata": {},
   "outputs": [],
   "source": [
    "# Fonction de suppression des balises HMTL\n",
    "\n",
    "def suppr_balises_html(text):\n",
    " \n",
    "    soup = BeautifulSoup(text, \"html.parser\")\n",
    "    for data in soup(['style', 'script']):\n",
    "          data.decompose()\n",
    "            \n",
    "    text_out = ' '.join(soup.stripped_strings)        \n",
    "    return text_out"
   ]
  },
  {
   "cell_type": "code",
   "execution_count": 11,
   "id": "235c66dd",
   "metadata": {},
   "outputs": [],
   "source": [
    "# Application de la suppression de balises à la donnée Body (donnée Title non concernée)\n",
    "raw_data['Body_trf'] = raw_data['Body'].apply(suppr_balises_html)"
   ]
  },
  {
   "cell_type": "code",
   "execution_count": 12,
   "id": "19ee9921",
   "metadata": {},
   "outputs": [
    {
     "data": {
      "text/html": [
       "<div>\n",
       "<style scoped>\n",
       "    .dataframe tbody tr th:only-of-type {\n",
       "        vertical-align: middle;\n",
       "    }\n",
       "\n",
       "    .dataframe tbody tr th {\n",
       "        vertical-align: top;\n",
       "    }\n",
       "\n",
       "    .dataframe thead th {\n",
       "        text-align: right;\n",
       "    }\n",
       "</style>\n",
       "<table border=\"1\" class=\"dataframe\">\n",
       "  <thead>\n",
       "    <tr style=\"text-align: right;\">\n",
       "      <th></th>\n",
       "      <th>Title</th>\n",
       "      <th>Body</th>\n",
       "      <th>Tags</th>\n",
       "      <th>Body_trf</th>\n",
       "    </tr>\n",
       "  </thead>\n",
       "  <tbody>\n",
       "    <tr>\n",
       "      <th>0</th>\n",
       "      <td>mqtt async wait for concurrent messages then r...</td>\n",
       "      <td>&lt;p&gt;I have this process for home automation pro...</td>\n",
       "      <td>&lt;javascript&gt;&lt;node.js&gt;&lt;http&gt;&lt;async-await&gt;&lt;mqtt&gt;</td>\n",
       "      <td>I have this process for home automation projec...</td>\n",
       "    </tr>\n",
       "    <tr>\n",
       "      <th>1</th>\n",
       "      <td>Where can I find a nice .NET Tab Control for f...</td>\n",
       "      <td>&lt;p&gt;I'm doing this application in C# using the ...</td>\n",
       "      <td>&lt;c#&gt;&lt;.net&gt;&lt;winforms&gt;&lt;tabcontrol&gt;&lt;krypton&gt;</td>\n",
       "      <td>I'm doing this application in C# using the fre...</td>\n",
       "    </tr>\n",
       "    <tr>\n",
       "      <th>2</th>\n",
       "      <td>How to smoothly move a button in cocos2d Xcode</td>\n",
       "      <td>&lt;p&gt;I have a jump button, that when clicked the...</td>\n",
       "      <td>&lt;iphone&gt;&lt;ios&gt;&lt;cocoa&gt;&lt;opengl-es&gt;&lt;cocos2d-iphone&gt;</td>\n",
       "      <td>I have a jump button, that when clicked the pl...</td>\n",
       "    </tr>\n",
       "    <tr>\n",
       "      <th>3</th>\n",
       "      <td>How to get NSImage of generic folder icon on O...</td>\n",
       "      <td>&lt;p&gt;I'm writing a Cocoa application that displa...</td>\n",
       "      <td>&lt;objective-c&gt;&lt;cocoa&gt;&lt;icons&gt;&lt;directory&gt;&lt;nsimage&gt;</td>\n",
       "      <td>I'm writing a Cocoa application that displays ...</td>\n",
       "    </tr>\n",
       "    <tr>\n",
       "      <th>4</th>\n",
       "      <td>Replace query string with '/' via .htaccess file</td>\n",
       "      <td>&lt;p&gt;&lt;a href=\"http://thewebsitedemo.com/Just-dia...</td>\n",
       "      <td>&lt;php&gt;&lt;string&gt;&lt;.htaccess&gt;&lt;url&gt;&lt;replace&gt;</td>\n",
       "      <td>http://thewebsitedemo.com/Just-dial/Chandigarh...</td>\n",
       "    </tr>\n",
       "  </tbody>\n",
       "</table>\n",
       "</div>"
      ],
      "text/plain": [
       "                                               Title  \\\n",
       "0  mqtt async wait for concurrent messages then r...   \n",
       "1  Where can I find a nice .NET Tab Control for f...   \n",
       "2     How to smoothly move a button in cocos2d Xcode   \n",
       "3  How to get NSImage of generic folder icon on O...   \n",
       "4   Replace query string with '/' via .htaccess file   \n",
       "\n",
       "                                                Body  \\\n",
       "0  <p>I have this process for home automation pro...   \n",
       "1  <p>I'm doing this application in C# using the ...   \n",
       "2  <p>I have a jump button, that when clicked the...   \n",
       "3  <p>I'm writing a Cocoa application that displa...   \n",
       "4  <p><a href=\"http://thewebsitedemo.com/Just-dia...   \n",
       "\n",
       "                                              Tags  \\\n",
       "0   <javascript><node.js><http><async-await><mqtt>   \n",
       "1        <c#><.net><winforms><tabcontrol><krypton>   \n",
       "2  <iphone><ios><cocoa><opengl-es><cocos2d-iphone>   \n",
       "3  <objective-c><cocoa><icons><directory><nsimage>   \n",
       "4           <php><string><.htaccess><url><replace>   \n",
       "\n",
       "                                            Body_trf  \n",
       "0  I have this process for home automation projec...  \n",
       "1  I'm doing this application in C# using the fre...  \n",
       "2  I have a jump button, that when clicked the pl...  \n",
       "3  I'm writing a Cocoa application that displays ...  \n",
       "4  http://thewebsitedemo.com/Just-dial/Chandigarh...  "
      ]
     },
     "execution_count": 12,
     "metadata": {},
     "output_type": "execute_result"
    }
   ],
   "source": [
    "raw_data.head(5)"
   ]
  },
  {
   "cell_type": "code",
   "execution_count": 13,
   "id": "227ed66c",
   "metadata": {},
   "outputs": [
    {
     "name": "stdout",
     "output_type": "stream",
     "text": [
      "---------------------------------------------------------------\n",
      "Suppression des balises HTML : \n",
      "---------------------------------------------------------------\n",
      "Exemple avant transformation : \n",
      "<p>Fictional example, not present in the Dataframe, to explicit The 5 different stages of the NLP transformations : Remove HTML tags; tokenize; remove StopWords (and small words like C#, R, ...); Lemmatize; Stemming. <p>\n",
      "---------------------------------------------------------------\n",
      "Après transformation : \n",
      "Fictional example, not present in the Dataframe, to explicit The 5 different stages of the NLP transformations : Remove HTML tags; tokenize; remove StopWords (and small words like C#, R, ...); Lemmatize; Stemming.\n",
      "---------------------------------------------------------------\n"
     ]
    }
   ],
   "source": [
    "# Application de cette étape de transformation à un message d'exemple\n",
    "example_in = \"<p>Fictional example, not present in the Dataframe, to explicit The 5 different stages of the NLP transformations : Remove HTML tags; tokenize; remove StopWords (and small words like C#, R, ...); Lemmatize; Stemming. <p>\"\n",
    "print('---------------------------------------------------------------')\n",
    "print ('Suppression des balises HTML : ')\n",
    "print('---------------------------------------------------------------')\n",
    "print ('Exemple avant transformation : ')\n",
    "print (example_in)\n",
    "print('---------------------------------------------------------------')\n",
    "example_out = suppr_balises_html(example_in)\n",
    "print ('Après transformation : ')\n",
    "print (example_out)\n",
    "print('---------------------------------------------------------------')"
   ]
  },
  {
   "cell_type": "code",
   "execution_count": 14,
   "id": "584428e6",
   "metadata": {},
   "outputs": [],
   "source": [
    "# Fonction de tokenisation d'une zone texte\n",
    "\n",
    "def tokenize_text(text):\n",
    "\n",
    "# tokenize, normalize and filter number\n",
    "\n",
    "    words = list(gensim.utils.tokenize(text, lowercase=True))\n",
    "    \n",
    "    return words\n",
    "\n"
   ]
  },
  {
   "cell_type": "code",
   "execution_count": 15,
   "id": "5f181bfb",
   "metadata": {},
   "outputs": [],
   "source": [
    "# Application de la tokenisation à Title et Body\n",
    "raw_data['Title_trf'] = raw_data['Title'].apply(tokenize_text)\n",
    "raw_data['Body_trf'] = raw_data['Body_trf'].apply(tokenize_text)"
   ]
  },
  {
   "cell_type": "code",
   "execution_count": 16,
   "id": "b296688e",
   "metadata": {},
   "outputs": [
    {
     "data": {
      "text/html": [
       "<div>\n",
       "<style scoped>\n",
       "    .dataframe tbody tr th:only-of-type {\n",
       "        vertical-align: middle;\n",
       "    }\n",
       "\n",
       "    .dataframe tbody tr th {\n",
       "        vertical-align: top;\n",
       "    }\n",
       "\n",
       "    .dataframe thead th {\n",
       "        text-align: right;\n",
       "    }\n",
       "</style>\n",
       "<table border=\"1\" class=\"dataframe\">\n",
       "  <thead>\n",
       "    <tr style=\"text-align: right;\">\n",
       "      <th></th>\n",
       "      <th>Title</th>\n",
       "      <th>Body</th>\n",
       "      <th>Tags</th>\n",
       "      <th>Body_trf</th>\n",
       "      <th>Title_trf</th>\n",
       "    </tr>\n",
       "  </thead>\n",
       "  <tbody>\n",
       "    <tr>\n",
       "      <th>0</th>\n",
       "      <td>mqtt async wait for concurrent messages then r...</td>\n",
       "      <td>&lt;p&gt;I have this process for home automation pro...</td>\n",
       "      <td>&lt;javascript&gt;&lt;node.js&gt;&lt;http&gt;&lt;async-await&gt;&lt;mqtt&gt;</td>\n",
       "      <td>[i, have, this, process, for, home, automation...</td>\n",
       "      <td>[mqtt, async, wait, for, concurrent, messages,...</td>\n",
       "    </tr>\n",
       "    <tr>\n",
       "      <th>1</th>\n",
       "      <td>Where can I find a nice .NET Tab Control for f...</td>\n",
       "      <td>&lt;p&gt;I'm doing this application in C# using the ...</td>\n",
       "      <td>&lt;c#&gt;&lt;.net&gt;&lt;winforms&gt;&lt;tabcontrol&gt;&lt;krypton&gt;</td>\n",
       "      <td>[i, m, doing, this, application, in, c, using,...</td>\n",
       "      <td>[where, can, i, find, a, nice, net, tab, contr...</td>\n",
       "    </tr>\n",
       "    <tr>\n",
       "      <th>2</th>\n",
       "      <td>How to smoothly move a button in cocos2d Xcode</td>\n",
       "      <td>&lt;p&gt;I have a jump button, that when clicked the...</td>\n",
       "      <td>&lt;iphone&gt;&lt;ios&gt;&lt;cocoa&gt;&lt;opengl-es&gt;&lt;cocos2d-iphone&gt;</td>\n",
       "      <td>[i, have, a, jump, button, that, when, clicked...</td>\n",
       "      <td>[how, to, smoothly, move, a, button, in, cocos...</td>\n",
       "    </tr>\n",
       "    <tr>\n",
       "      <th>3</th>\n",
       "      <td>How to get NSImage of generic folder icon on O...</td>\n",
       "      <td>&lt;p&gt;I'm writing a Cocoa application that displa...</td>\n",
       "      <td>&lt;objective-c&gt;&lt;cocoa&gt;&lt;icons&gt;&lt;directory&gt;&lt;nsimage&gt;</td>\n",
       "      <td>[i, m, writing, a, cocoa, application, that, d...</td>\n",
       "      <td>[how, to, get, nsimage, of, generic, folder, i...</td>\n",
       "    </tr>\n",
       "    <tr>\n",
       "      <th>4</th>\n",
       "      <td>Replace query string with '/' via .htaccess file</td>\n",
       "      <td>&lt;p&gt;&lt;a href=\"http://thewebsitedemo.com/Just-dia...</td>\n",
       "      <td>&lt;php&gt;&lt;string&gt;&lt;.htaccess&gt;&lt;url&gt;&lt;replace&gt;</td>\n",
       "      <td>[http, thewebsitedemo, com, just, dial, chandi...</td>\n",
       "      <td>[replace, query, string, with, via, htaccess, ...</td>\n",
       "    </tr>\n",
       "  </tbody>\n",
       "</table>\n",
       "</div>"
      ],
      "text/plain": [
       "                                               Title  \\\n",
       "0  mqtt async wait for concurrent messages then r...   \n",
       "1  Where can I find a nice .NET Tab Control for f...   \n",
       "2     How to smoothly move a button in cocos2d Xcode   \n",
       "3  How to get NSImage of generic folder icon on O...   \n",
       "4   Replace query string with '/' via .htaccess file   \n",
       "\n",
       "                                                Body  \\\n",
       "0  <p>I have this process for home automation pro...   \n",
       "1  <p>I'm doing this application in C# using the ...   \n",
       "2  <p>I have a jump button, that when clicked the...   \n",
       "3  <p>I'm writing a Cocoa application that displa...   \n",
       "4  <p><a href=\"http://thewebsitedemo.com/Just-dia...   \n",
       "\n",
       "                                              Tags  \\\n",
       "0   <javascript><node.js><http><async-await><mqtt>   \n",
       "1        <c#><.net><winforms><tabcontrol><krypton>   \n",
       "2  <iphone><ios><cocoa><opengl-es><cocos2d-iphone>   \n",
       "3  <objective-c><cocoa><icons><directory><nsimage>   \n",
       "4           <php><string><.htaccess><url><replace>   \n",
       "\n",
       "                                            Body_trf  \\\n",
       "0  [i, have, this, process, for, home, automation...   \n",
       "1  [i, m, doing, this, application, in, c, using,...   \n",
       "2  [i, have, a, jump, button, that, when, clicked...   \n",
       "3  [i, m, writing, a, cocoa, application, that, d...   \n",
       "4  [http, thewebsitedemo, com, just, dial, chandi...   \n",
       "\n",
       "                                           Title_trf  \n",
       "0  [mqtt, async, wait, for, concurrent, messages,...  \n",
       "1  [where, can, i, find, a, nice, net, tab, contr...  \n",
       "2  [how, to, smoothly, move, a, button, in, cocos...  \n",
       "3  [how, to, get, nsimage, of, generic, folder, i...  \n",
       "4  [replace, query, string, with, via, htaccess, ...  "
      ]
     },
     "execution_count": 16,
     "metadata": {},
     "output_type": "execute_result"
    }
   ],
   "source": [
    "raw_data.head(5)"
   ]
  },
  {
   "cell_type": "code",
   "execution_count": 17,
   "id": "3e2e8a8b",
   "metadata": {},
   "outputs": [
    {
     "name": "stdout",
     "output_type": "stream",
     "text": [
      "---------------------------------------------------------------\n",
      "Tokenisation, élimination des majuscules, des signes de ponctuation et des chiffres :\n",
      "---------------------------------------------------------------\n",
      "Exemple avant transformation :\n",
      "Fictional example, not present in the Dataframe, to explicit The 5 different stages of the NLP transformations : Remove HTML tags; tokenize; remove StopWords (and small words like C#, R, ...); Lemmatize; Stemming.\n",
      "---------------------------------------------------------------\n",
      "Après transformation : \n",
      "['fictional', 'example', 'not', 'present', 'in', 'the', 'dataframe', 'to', 'explicit', 'the', 'different', 'stages', 'of', 'the', 'nlp', 'transformations', 'remove', 'html', 'tags', 'tokenize', 'remove', 'stopwords', 'and', 'small', 'words', 'like', 'c', 'r', 'lemmatize', 'stemming']\n",
      "---------------------------------------------------------------\n"
     ]
    }
   ],
   "source": [
    "# Application de cette étape de transformation à un message d'exemple\n",
    "example_in = example_out\n",
    "print('---------------------------------------------------------------')\n",
    "print ('Tokenisation, élimination des majuscules, des signes de ponctuation et des chiffres :')\n",
    "print('---------------------------------------------------------------')\n",
    "print ('Exemple avant transformation :')\n",
    "print (example_in)\n",
    "print('---------------------------------------------------------------')\n",
    "example_out = tokenize_text(example_in)\n",
    "print ('Après transformation : ')\n",
    "print (example_out)\n",
    "print('---------------------------------------------------------------')"
   ]
  },
  {
   "cell_type": "code",
   "execution_count": 18,
   "id": "8fad6ac7",
   "metadata": {},
   "outputs": [],
   "source": [
    "#  Fonction de suppressions des stopwords anglais\n",
    "\n",
    "mystopwords = set(stopwords.words('english')) \n",
    "\n",
    "\n",
    "def suppr_stopwords(list):\n",
    "\n",
    "    words = [x for x in list if x not in mystopwords and len(x) > 1]\n",
    "\n",
    "    return words"
   ]
  },
  {
   "cell_type": "code",
   "execution_count": 19,
   "id": "4a6caa76",
   "metadata": {},
   "outputs": [
    {
     "name": "stdout",
     "output_type": "stream",
     "text": [
      "Nombre de mots dans la liste de stopwords :  179\n"
     ]
    }
   ],
   "source": [
    "# Nombre de mots dans la liste de stopwords\n",
    "print ('Nombre de mots dans la liste de stopwords : ', len(mystopwords))"
   ]
  },
  {
   "cell_type": "code",
   "execution_count": 20,
   "id": "3eca5ae2",
   "metadata": {
    "scrolled": true
   },
   "outputs": [
    {
     "name": "stdout",
     "output_type": "stream",
     "text": [
      "liste des stopwords :  {'where', 'some', 'did', 'off', \"hasn't\", 'having', 'i', \"should've\", 'didn', \"won't\", 'do', 'yourself', 'had', 'no', \"you'd\", 'more', 'them', 'doesn', 'haven', 'between', 'myself', 'mustn', \"weren't\", 'than', 'he', \"hadn't\", \"mustn't\", 'when', 'what', 'most', 'needn', 'be', 'such', 'ours', 'few', 'm', 'it', 'am', 'into', 'won', 'before', 'each', \"you've\", \"she's\", 'their', 'will', 'shan', 'theirs', \"isn't\", \"haven't\", 'those', 'under', 'and', 'd', 'our', 'below', 'out', 'how', \"shan't\", 're', 'same', \"doesn't\", 'both', 'nor', 'then', \"don't\", 'ourselves', 'was', 'y', 'been', 'further', 'himself', 'any', 'can', 'isn', 'weren', 'against', 'you', 'wouldn', 'own', 'again', \"you're\", 'of', 't', 'down', 'to', 's', 'through', 'just', \"needn't\", 've', 'me', 'on', \"couldn't\", 'are', 'have', 'about', 'or', 'up', 'its', 'as', 'hasn', 'from', 'ain', 'hers', 'doing', 'll', \"didn't\", 'an', 'ma', 'we', 'yourselves', 'the', 'hadn', 'here', 'your', 'this', 'too', 'after', 'her', 'not', 'shouldn', 'couldn', 'while', 'these', 'during', \"you'll\", 'there', 'because', 'by', 'all', \"aren't\", 'which', 'whom', 'in', 'is', 'him', \"mightn't\", 'his', 'my', 'so', 'has', 'don', 'why', \"it's\", 'who', 'wasn', 'themselves', 'being', 'that', 'itself', 'with', 'aren', 'other', 'mightn', \"wouldn't\", \"that'll\", 'a', 'until', 'very', 'above', \"shouldn't\", 'over', 'only', 'now', \"wasn't\", 'they', 'o', 'at', 'she', 'should', 'herself', 'but', 'does', 'if', 'yours', 'once', 'for', 'were'}\n"
     ]
    }
   ],
   "source": [
    "# Liste des stopwords\n",
    "print ('liste des stopwords : ', mystopwords)"
   ]
  },
  {
   "cell_type": "code",
   "execution_count": 21,
   "id": "f04f09e2",
   "metadata": {},
   "outputs": [],
   "source": [
    "# Application de la suppression des stopwords à Title et Body\n",
    "raw_data['Title_trf'] = raw_data['Title_trf'].apply( suppr_stopwords)\n",
    "raw_data['Body_trf'] = raw_data['Body_trf'].apply( suppr_stopwords)"
   ]
  },
  {
   "cell_type": "code",
   "execution_count": 22,
   "id": "81fc70ff",
   "metadata": {},
   "outputs": [
    {
     "data": {
      "text/html": [
       "<div>\n",
       "<style scoped>\n",
       "    .dataframe tbody tr th:only-of-type {\n",
       "        vertical-align: middle;\n",
       "    }\n",
       "\n",
       "    .dataframe tbody tr th {\n",
       "        vertical-align: top;\n",
       "    }\n",
       "\n",
       "    .dataframe thead th {\n",
       "        text-align: right;\n",
       "    }\n",
       "</style>\n",
       "<table border=\"1\" class=\"dataframe\">\n",
       "  <thead>\n",
       "    <tr style=\"text-align: right;\">\n",
       "      <th></th>\n",
       "      <th>Title</th>\n",
       "      <th>Body</th>\n",
       "      <th>Tags</th>\n",
       "      <th>Body_trf</th>\n",
       "      <th>Title_trf</th>\n",
       "    </tr>\n",
       "  </thead>\n",
       "  <tbody>\n",
       "    <tr>\n",
       "      <th>0</th>\n",
       "      <td>mqtt async wait for concurrent messages then r...</td>\n",
       "      <td>&lt;p&gt;I have this process for home automation pro...</td>\n",
       "      <td>&lt;javascript&gt;&lt;node.js&gt;&lt;http&gt;&lt;async-await&gt;&lt;mqtt&gt;</td>\n",
       "      <td>[process, home, automation, project, receive, ...</td>\n",
       "      <td>[mqtt, async, wait, concurrent, messages, resp...</td>\n",
       "    </tr>\n",
       "    <tr>\n",
       "      <th>1</th>\n",
       "      <td>Where can I find a nice .NET Tab Control for f...</td>\n",
       "      <td>&lt;p&gt;I'm doing this application in C# using the ...</td>\n",
       "      <td>&lt;c#&gt;&lt;.net&gt;&lt;winforms&gt;&lt;tabcontrol&gt;&lt;krypton&gt;</td>\n",
       "      <td>[application, using, free, krypton, toolkit, k...</td>\n",
       "      <td>[find, nice, net, tab, control, free]</td>\n",
       "    </tr>\n",
       "    <tr>\n",
       "      <th>2</th>\n",
       "      <td>How to smoothly move a button in cocos2d Xcode</td>\n",
       "      <td>&lt;p&gt;I have a jump button, that when clicked the...</td>\n",
       "      <td>&lt;iphone&gt;&lt;ios&gt;&lt;cocoa&gt;&lt;opengl-es&gt;&lt;cocos2d-iphone&gt;</td>\n",
       "      <td>[jump, button, clicked, player, game, jumps, b...</td>\n",
       "      <td>[smoothly, move, button, cocos, xcode]</td>\n",
       "    </tr>\n",
       "    <tr>\n",
       "      <th>3</th>\n",
       "      <td>How to get NSImage of generic folder icon on O...</td>\n",
       "      <td>&lt;p&gt;I'm writing a Cocoa application that displa...</td>\n",
       "      <td>&lt;objective-c&gt;&lt;cocoa&gt;&lt;icons&gt;&lt;directory&gt;&lt;nsimage&gt;</td>\n",
       "      <td>[writing, cocoa, application, displays, conten...</td>\n",
       "      <td>[get, nsimage, generic, folder, icon, os]</td>\n",
       "    </tr>\n",
       "    <tr>\n",
       "      <th>4</th>\n",
       "      <td>Replace query string with '/' via .htaccess file</td>\n",
       "      <td>&lt;p&gt;&lt;a href=\"http://thewebsitedemo.com/Just-dia...</td>\n",
       "      <td>&lt;php&gt;&lt;string&gt;&lt;.htaccess&gt;&lt;url&gt;&lt;replace&gt;</td>\n",
       "      <td>[http, thewebsitedemo, com, dial, chandigarh, ...</td>\n",
       "      <td>[replace, query, string, via, htaccess, file]</td>\n",
       "    </tr>\n",
       "  </tbody>\n",
       "</table>\n",
       "</div>"
      ],
      "text/plain": [
       "                                               Title  \\\n",
       "0  mqtt async wait for concurrent messages then r...   \n",
       "1  Where can I find a nice .NET Tab Control for f...   \n",
       "2     How to smoothly move a button in cocos2d Xcode   \n",
       "3  How to get NSImage of generic folder icon on O...   \n",
       "4   Replace query string with '/' via .htaccess file   \n",
       "\n",
       "                                                Body  \\\n",
       "0  <p>I have this process for home automation pro...   \n",
       "1  <p>I'm doing this application in C# using the ...   \n",
       "2  <p>I have a jump button, that when clicked the...   \n",
       "3  <p>I'm writing a Cocoa application that displa...   \n",
       "4  <p><a href=\"http://thewebsitedemo.com/Just-dia...   \n",
       "\n",
       "                                              Tags  \\\n",
       "0   <javascript><node.js><http><async-await><mqtt>   \n",
       "1        <c#><.net><winforms><tabcontrol><krypton>   \n",
       "2  <iphone><ios><cocoa><opengl-es><cocos2d-iphone>   \n",
       "3  <objective-c><cocoa><icons><directory><nsimage>   \n",
       "4           <php><string><.htaccess><url><replace>   \n",
       "\n",
       "                                            Body_trf  \\\n",
       "0  [process, home, automation, project, receive, ...   \n",
       "1  [application, using, free, krypton, toolkit, k...   \n",
       "2  [jump, button, clicked, player, game, jumps, b...   \n",
       "3  [writing, cocoa, application, displays, conten...   \n",
       "4  [http, thewebsitedemo, com, dial, chandigarh, ...   \n",
       "\n",
       "                                           Title_trf  \n",
       "0  [mqtt, async, wait, concurrent, messages, resp...  \n",
       "1              [find, nice, net, tab, control, free]  \n",
       "2             [smoothly, move, button, cocos, xcode]  \n",
       "3          [get, nsimage, generic, folder, icon, os]  \n",
       "4      [replace, query, string, via, htaccess, file]  "
      ]
     },
     "execution_count": 22,
     "metadata": {},
     "output_type": "execute_result"
    }
   ],
   "source": [
    "raw_data.head(5)"
   ]
  },
  {
   "cell_type": "code",
   "execution_count": 23,
   "id": "71aaca53",
   "metadata": {},
   "outputs": [
    {
     "name": "stdout",
     "output_type": "stream",
     "text": [
      "---------------------------------------------------------------\n",
      "Suppression des stopwords : \n",
      "---------------------------------------------------------------\n",
      "Exemple avant transformation :\n",
      "['fictional', 'example', 'not', 'present', 'in', 'the', 'dataframe', 'to', 'explicit', 'the', 'different', 'stages', 'of', 'the', 'nlp', 'transformations', 'remove', 'html', 'tags', 'tokenize', 'remove', 'stopwords', 'and', 'small', 'words', 'like', 'c', 'r', 'lemmatize', 'stemming']\n",
      "---------------------------------------------------------------\n",
      "Après transformation : \n",
      "['fictional', 'example', 'present', 'dataframe', 'explicit', 'different', 'stages', 'nlp', 'transformations', 'remove', 'html', 'tags', 'tokenize', 'remove', 'stopwords', 'small', 'words', 'like', 'lemmatize', 'stemming']\n",
      "---------------------------------------------------------------\n"
     ]
    }
   ],
   "source": [
    "# Application de cette étape de transformation à un message d'exemple\n",
    "example_in = example_out\n",
    "print('---------------------------------------------------------------')\n",
    "print ('Suppression des stopwords : ')\n",
    "print('---------------------------------------------------------------')\n",
    "print ('Exemple avant transformation :')\n",
    "print (example_in)\n",
    "print('---------------------------------------------------------------')\n",
    "example_out = suppr_stopwords(example_in)\n",
    "print ('Après transformation : ')\n",
    "print (example_out)\n",
    "print('---------------------------------------------------------------')"
   ]
  },
  {
   "cell_type": "code",
   "execution_count": 24,
   "id": "dad80b27",
   "metadata": {},
   "outputs": [],
   "source": [
    "# Fonction de lemmatization\n",
    "\n",
    "lemmatizer = WordNetLemmatizer()\n",
    "def lemmatize(list):\n",
    "\n",
    "    words = [lemmatizer.lemmatize(x) for x in list ]\n",
    "\n",
    "    return words"
   ]
  },
  {
   "cell_type": "code",
   "execution_count": 25,
   "id": "387b5c9a",
   "metadata": {},
   "outputs": [],
   "source": [
    "# Application de la lemmatization à Title et Body\n",
    "raw_data['Title_trf'] = raw_data['Title_trf'].apply(lemmatize)\n",
    "raw_data['Body_trf'] = raw_data['Body_trf'].apply(lemmatize)"
   ]
  },
  {
   "cell_type": "code",
   "execution_count": 26,
   "id": "7413ff35",
   "metadata": {},
   "outputs": [
    {
     "data": {
      "text/html": [
       "<div>\n",
       "<style scoped>\n",
       "    .dataframe tbody tr th:only-of-type {\n",
       "        vertical-align: middle;\n",
       "    }\n",
       "\n",
       "    .dataframe tbody tr th {\n",
       "        vertical-align: top;\n",
       "    }\n",
       "\n",
       "    .dataframe thead th {\n",
       "        text-align: right;\n",
       "    }\n",
       "</style>\n",
       "<table border=\"1\" class=\"dataframe\">\n",
       "  <thead>\n",
       "    <tr style=\"text-align: right;\">\n",
       "      <th></th>\n",
       "      <th>Title</th>\n",
       "      <th>Body</th>\n",
       "      <th>Tags</th>\n",
       "      <th>Body_trf</th>\n",
       "      <th>Title_trf</th>\n",
       "    </tr>\n",
       "  </thead>\n",
       "  <tbody>\n",
       "    <tr>\n",
       "      <th>0</th>\n",
       "      <td>mqtt async wait for concurrent messages then r...</td>\n",
       "      <td>&lt;p&gt;I have this process for home automation pro...</td>\n",
       "      <td>&lt;javascript&gt;&lt;node.js&gt;&lt;http&gt;&lt;async-await&gt;&lt;mqtt&gt;</td>\n",
       "      <td>[process, home, automation, project, receive, ...</td>\n",
       "      <td>[mqtt, async, wait, concurrent, message, respo...</td>\n",
       "    </tr>\n",
       "    <tr>\n",
       "      <th>1</th>\n",
       "      <td>Where can I find a nice .NET Tab Control for f...</td>\n",
       "      <td>&lt;p&gt;I'm doing this application in C# using the ...</td>\n",
       "      <td>&lt;c#&gt;&lt;.net&gt;&lt;winforms&gt;&lt;tabcontrol&gt;&lt;krypton&gt;</td>\n",
       "      <td>[application, using, free, krypton, toolkit, k...</td>\n",
       "      <td>[find, nice, net, tab, control, free]</td>\n",
       "    </tr>\n",
       "    <tr>\n",
       "      <th>2</th>\n",
       "      <td>How to smoothly move a button in cocos2d Xcode</td>\n",
       "      <td>&lt;p&gt;I have a jump button, that when clicked the...</td>\n",
       "      <td>&lt;iphone&gt;&lt;ios&gt;&lt;cocoa&gt;&lt;opengl-es&gt;&lt;cocos2d-iphone&gt;</td>\n",
       "      <td>[jump, button, clicked, player, game, jump, bu...</td>\n",
       "      <td>[smoothly, move, button, coco, xcode]</td>\n",
       "    </tr>\n",
       "    <tr>\n",
       "      <th>3</th>\n",
       "      <td>How to get NSImage of generic folder icon on O...</td>\n",
       "      <td>&lt;p&gt;I'm writing a Cocoa application that displa...</td>\n",
       "      <td>&lt;objective-c&gt;&lt;cocoa&gt;&lt;icons&gt;&lt;directory&gt;&lt;nsimage&gt;</td>\n",
       "      <td>[writing, cocoa, application, display, content...</td>\n",
       "      <td>[get, nsimage, generic, folder, icon, o]</td>\n",
       "    </tr>\n",
       "    <tr>\n",
       "      <th>4</th>\n",
       "      <td>Replace query string with '/' via .htaccess file</td>\n",
       "      <td>&lt;p&gt;&lt;a href=\"http://thewebsitedemo.com/Just-dia...</td>\n",
       "      <td>&lt;php&gt;&lt;string&gt;&lt;.htaccess&gt;&lt;url&gt;&lt;replace&gt;</td>\n",
       "      <td>[http, thewebsitedemo, com, dial, chandigarh, ...</td>\n",
       "      <td>[replace, query, string, via, htaccess, file]</td>\n",
       "    </tr>\n",
       "  </tbody>\n",
       "</table>\n",
       "</div>"
      ],
      "text/plain": [
       "                                               Title  \\\n",
       "0  mqtt async wait for concurrent messages then r...   \n",
       "1  Where can I find a nice .NET Tab Control for f...   \n",
       "2     How to smoothly move a button in cocos2d Xcode   \n",
       "3  How to get NSImage of generic folder icon on O...   \n",
       "4   Replace query string with '/' via .htaccess file   \n",
       "\n",
       "                                                Body  \\\n",
       "0  <p>I have this process for home automation pro...   \n",
       "1  <p>I'm doing this application in C# using the ...   \n",
       "2  <p>I have a jump button, that when clicked the...   \n",
       "3  <p>I'm writing a Cocoa application that displa...   \n",
       "4  <p><a href=\"http://thewebsitedemo.com/Just-dia...   \n",
       "\n",
       "                                              Tags  \\\n",
       "0   <javascript><node.js><http><async-await><mqtt>   \n",
       "1        <c#><.net><winforms><tabcontrol><krypton>   \n",
       "2  <iphone><ios><cocoa><opengl-es><cocos2d-iphone>   \n",
       "3  <objective-c><cocoa><icons><directory><nsimage>   \n",
       "4           <php><string><.htaccess><url><replace>   \n",
       "\n",
       "                                            Body_trf  \\\n",
       "0  [process, home, automation, project, receive, ...   \n",
       "1  [application, using, free, krypton, toolkit, k...   \n",
       "2  [jump, button, clicked, player, game, jump, bu...   \n",
       "3  [writing, cocoa, application, display, content...   \n",
       "4  [http, thewebsitedemo, com, dial, chandigarh, ...   \n",
       "\n",
       "                                           Title_trf  \n",
       "0  [mqtt, async, wait, concurrent, message, respo...  \n",
       "1              [find, nice, net, tab, control, free]  \n",
       "2              [smoothly, move, button, coco, xcode]  \n",
       "3           [get, nsimage, generic, folder, icon, o]  \n",
       "4      [replace, query, string, via, htaccess, file]  "
      ]
     },
     "execution_count": 26,
     "metadata": {},
     "output_type": "execute_result"
    }
   ],
   "source": [
    "raw_data.head(5)"
   ]
  },
  {
   "cell_type": "code",
   "execution_count": 27,
   "id": "97259b1b",
   "metadata": {},
   "outputs": [
    {
     "name": "stdout",
     "output_type": "stream",
     "text": [
      "---------------------------------------------------------------\n",
      "Lemmatization : \n",
      "---------------------------------------------------------------\n",
      "Exemple avant transformation :\n",
      "['fictional', 'example', 'present', 'dataframe', 'explicit', 'different', 'stages', 'nlp', 'transformations', 'remove', 'html', 'tags', 'tokenize', 'remove', 'stopwords', 'small', 'words', 'like', 'lemmatize', 'stemming']\n",
      "---------------------------------------------------------------\n",
      "Après transformation :\n",
      "['fictional', 'example', 'present', 'dataframe', 'explicit', 'different', 'stage', 'nlp', 'transformation', 'remove', 'html', 'tag', 'tokenize', 'remove', 'stopwords', 'small', 'word', 'like', 'lemmatize', 'stemming']\n",
      "---------------------------------------------------------------\n"
     ]
    }
   ],
   "source": [
    "# Application de cette étape de transformation à un message d'exemple\n",
    "example_in = example_out\n",
    "print('---------------------------------------------------------------')\n",
    "print ('Lemmatization : ')\n",
    "print('---------------------------------------------------------------')\n",
    "print ('Exemple avant transformation :')\n",
    "print (example_in)\n",
    "print('---------------------------------------------------------------')\n",
    "example_out = lemmatize(example_in)\n",
    "print ('Après transformation :')\n",
    "print (example_out)\n",
    "print('---------------------------------------------------------------')"
   ]
  },
  {
   "cell_type": "code",
   "execution_count": 28,
   "id": "b38550fb",
   "metadata": {},
   "outputs": [],
   "source": [
    "# Fonction de stemming (gardée dans le notebook même si finalement pas utilisé)\n",
    "\n",
    "stemmer = EnglishStemmer()\n",
    "def stemming(list):\n",
    "\n",
    "    words = [stemmer.stem(x) for x in list ]\n",
    "\n",
    "    return words"
   ]
  },
  {
   "cell_type": "code",
   "execution_count": 29,
   "id": "99c3b9cc",
   "metadata": {},
   "outputs": [
    {
     "name": "stdout",
     "output_type": "stream",
     "text": [
      "---------------------------------------------------------------\n",
      "Stemming : \n",
      "---------------------------------------------------------------\n",
      "Exemple avant transformation :\n",
      "['fictional', 'example', 'present', 'dataframe', 'explicit', 'different', 'stages', 'nlp', 'transformations', 'remove', 'html', 'tags', 'tokenize', 'remove', 'stopwords', 'small', 'words', 'like', 'lemmatize', 'stemming']\n",
      "---------------------------------------------------------------\n",
      "Après transformation :\n",
      "['fiction', 'exampl', 'present', 'datafram', 'explicit', 'differ', 'stage', 'nlp', 'transform', 'remov', 'html', 'tag', 'token', 'remov', 'stopword', 'small', 'word', 'like', 'lemmat', 'stem']\n",
      "---------------------------------------------------------------\n"
     ]
    }
   ],
   "source": [
    "# Application de cette étape de transformation à un message d'exemple\n",
    "# Transformation non appliquée sur le dataframe car lemmatization privilégiée\n",
    "print('---------------------------------------------------------------')\n",
    "print ('Stemming : ')\n",
    "print('---------------------------------------------------------------')\n",
    "print ('Exemple avant transformation :')\n",
    "print (example_in)\n",
    "print('---------------------------------------------------------------')\n",
    "example_out2 = stemming(example_in)\n",
    "print ('Après transformation :')\n",
    "print (example_out2)\n",
    "print('---------------------------------------------------------------')"
   ]
  },
  {
   "cell_type": "code",
   "execution_count": 30,
   "id": "419c07d5",
   "metadata": {},
   "outputs": [],
   "source": [
    "# Ajout d'une donnée Title_body contenant Title_trf + Body_trf\n",
    "raw_data['Title_body'] = raw_data['Title_trf'] +  raw_data['Body_trf']"
   ]
  },
  {
   "cell_type": "code",
   "execution_count": 31,
   "id": "2b728ea6",
   "metadata": {},
   "outputs": [
    {
     "data": {
      "text/html": [
       "<div>\n",
       "<style scoped>\n",
       "    .dataframe tbody tr th:only-of-type {\n",
       "        vertical-align: middle;\n",
       "    }\n",
       "\n",
       "    .dataframe tbody tr th {\n",
       "        vertical-align: top;\n",
       "    }\n",
       "\n",
       "    .dataframe thead th {\n",
       "        text-align: right;\n",
       "    }\n",
       "</style>\n",
       "<table border=\"1\" class=\"dataframe\">\n",
       "  <thead>\n",
       "    <tr style=\"text-align: right;\">\n",
       "      <th></th>\n",
       "      <th>Title</th>\n",
       "      <th>Body</th>\n",
       "      <th>Tags</th>\n",
       "      <th>Body_trf</th>\n",
       "      <th>Title_trf</th>\n",
       "      <th>Title_body</th>\n",
       "    </tr>\n",
       "  </thead>\n",
       "  <tbody>\n",
       "    <tr>\n",
       "      <th>0</th>\n",
       "      <td>mqtt async wait for concurrent messages then r...</td>\n",
       "      <td>&lt;p&gt;I have this process for home automation pro...</td>\n",
       "      <td>&lt;javascript&gt;&lt;node.js&gt;&lt;http&gt;&lt;async-await&gt;&lt;mqtt&gt;</td>\n",
       "      <td>[process, home, automation, project, receive, ...</td>\n",
       "      <td>[mqtt, async, wait, concurrent, message, respo...</td>\n",
       "      <td>[mqtt, async, wait, concurrent, message, respo...</td>\n",
       "    </tr>\n",
       "    <tr>\n",
       "      <th>1</th>\n",
       "      <td>Where can I find a nice .NET Tab Control for f...</td>\n",
       "      <td>&lt;p&gt;I'm doing this application in C# using the ...</td>\n",
       "      <td>&lt;c#&gt;&lt;.net&gt;&lt;winforms&gt;&lt;tabcontrol&gt;&lt;krypton&gt;</td>\n",
       "      <td>[application, using, free, krypton, toolkit, k...</td>\n",
       "      <td>[find, nice, net, tab, control, free]</td>\n",
       "      <td>[find, nice, net, tab, control, free, applicat...</td>\n",
       "    </tr>\n",
       "    <tr>\n",
       "      <th>2</th>\n",
       "      <td>How to smoothly move a button in cocos2d Xcode</td>\n",
       "      <td>&lt;p&gt;I have a jump button, that when clicked the...</td>\n",
       "      <td>&lt;iphone&gt;&lt;ios&gt;&lt;cocoa&gt;&lt;opengl-es&gt;&lt;cocos2d-iphone&gt;</td>\n",
       "      <td>[jump, button, clicked, player, game, jump, bu...</td>\n",
       "      <td>[smoothly, move, button, coco, xcode]</td>\n",
       "      <td>[smoothly, move, button, coco, xcode, jump, bu...</td>\n",
       "    </tr>\n",
       "    <tr>\n",
       "      <th>3</th>\n",
       "      <td>How to get NSImage of generic folder icon on O...</td>\n",
       "      <td>&lt;p&gt;I'm writing a Cocoa application that displa...</td>\n",
       "      <td>&lt;objective-c&gt;&lt;cocoa&gt;&lt;icons&gt;&lt;directory&gt;&lt;nsimage&gt;</td>\n",
       "      <td>[writing, cocoa, application, display, content...</td>\n",
       "      <td>[get, nsimage, generic, folder, icon, o]</td>\n",
       "      <td>[get, nsimage, generic, folder, icon, o, writi...</td>\n",
       "    </tr>\n",
       "    <tr>\n",
       "      <th>4</th>\n",
       "      <td>Replace query string with '/' via .htaccess file</td>\n",
       "      <td>&lt;p&gt;&lt;a href=\"http://thewebsitedemo.com/Just-dia...</td>\n",
       "      <td>&lt;php&gt;&lt;string&gt;&lt;.htaccess&gt;&lt;url&gt;&lt;replace&gt;</td>\n",
       "      <td>[http, thewebsitedemo, com, dial, chandigarh, ...</td>\n",
       "      <td>[replace, query, string, via, htaccess, file]</td>\n",
       "      <td>[replace, query, string, via, htaccess, file, ...</td>\n",
       "    </tr>\n",
       "  </tbody>\n",
       "</table>\n",
       "</div>"
      ],
      "text/plain": [
       "                                               Title  \\\n",
       "0  mqtt async wait for concurrent messages then r...   \n",
       "1  Where can I find a nice .NET Tab Control for f...   \n",
       "2     How to smoothly move a button in cocos2d Xcode   \n",
       "3  How to get NSImage of generic folder icon on O...   \n",
       "4   Replace query string with '/' via .htaccess file   \n",
       "\n",
       "                                                Body  \\\n",
       "0  <p>I have this process for home automation pro...   \n",
       "1  <p>I'm doing this application in C# using the ...   \n",
       "2  <p>I have a jump button, that when clicked the...   \n",
       "3  <p>I'm writing a Cocoa application that displa...   \n",
       "4  <p><a href=\"http://thewebsitedemo.com/Just-dia...   \n",
       "\n",
       "                                              Tags  \\\n",
       "0   <javascript><node.js><http><async-await><mqtt>   \n",
       "1        <c#><.net><winforms><tabcontrol><krypton>   \n",
       "2  <iphone><ios><cocoa><opengl-es><cocos2d-iphone>   \n",
       "3  <objective-c><cocoa><icons><directory><nsimage>   \n",
       "4           <php><string><.htaccess><url><replace>   \n",
       "\n",
       "                                            Body_trf  \\\n",
       "0  [process, home, automation, project, receive, ...   \n",
       "1  [application, using, free, krypton, toolkit, k...   \n",
       "2  [jump, button, clicked, player, game, jump, bu...   \n",
       "3  [writing, cocoa, application, display, content...   \n",
       "4  [http, thewebsitedemo, com, dial, chandigarh, ...   \n",
       "\n",
       "                                           Title_trf  \\\n",
       "0  [mqtt, async, wait, concurrent, message, respo...   \n",
       "1              [find, nice, net, tab, control, free]   \n",
       "2              [smoothly, move, button, coco, xcode]   \n",
       "3           [get, nsimage, generic, folder, icon, o]   \n",
       "4      [replace, query, string, via, htaccess, file]   \n",
       "\n",
       "                                          Title_body  \n",
       "0  [mqtt, async, wait, concurrent, message, respo...  \n",
       "1  [find, nice, net, tab, control, free, applicat...  \n",
       "2  [smoothly, move, button, coco, xcode, jump, bu...  \n",
       "3  [get, nsimage, generic, folder, icon, o, writi...  \n",
       "4  [replace, query, string, via, htaccess, file, ...  "
      ]
     },
     "execution_count": 31,
     "metadata": {},
     "output_type": "execute_result"
    }
   ],
   "source": [
    "raw_data.head(5)"
   ]
  },
  {
   "cell_type": "code",
   "execution_count": 32,
   "id": "d113544f",
   "metadata": {},
   "outputs": [],
   "source": [
    "#4 Transformation des tags"
   ]
  },
  {
   "cell_type": "code",
   "execution_count": 33,
   "id": "1532185a",
   "metadata": {},
   "outputs": [],
   "source": [
    "#Fonction de transformation des tags en liste de tags\n",
    "\n",
    "def get_tags(tags):\n",
    "\n",
    "    tags_list = re.findall(r'<(.*?)>', tags)\n",
    "\n",
    "    return tags_list"
   ]
  },
  {
   "cell_type": "code",
   "execution_count": 34,
   "id": "5760909e",
   "metadata": {},
   "outputs": [],
   "source": [
    "# Appel de la fonction\n",
    "raw_data['Tags_trf_list'] = raw_data['Tags'].apply(get_tags)"
   ]
  },
  {
   "cell_type": "code",
   "execution_count": 35,
   "id": "02a899dc",
   "metadata": {},
   "outputs": [],
   "source": [
    "# Création d'une donnée Tags en zone de texte\n",
    "for k in range (len(raw_data)):\n",
    "    raw_data.loc[raw_data.index[k],'Tags_trf_text'] = ' '.join(raw_data.iloc[k]['Tags_trf_list'])"
   ]
  },
  {
   "cell_type": "code",
   "execution_count": 36,
   "id": "cebf1808",
   "metadata": {},
   "outputs": [
    {
     "data": {
      "text/html": [
       "<div>\n",
       "<style scoped>\n",
       "    .dataframe tbody tr th:only-of-type {\n",
       "        vertical-align: middle;\n",
       "    }\n",
       "\n",
       "    .dataframe tbody tr th {\n",
       "        vertical-align: top;\n",
       "    }\n",
       "\n",
       "    .dataframe thead th {\n",
       "        text-align: right;\n",
       "    }\n",
       "</style>\n",
       "<table border=\"1\" class=\"dataframe\">\n",
       "  <thead>\n",
       "    <tr style=\"text-align: right;\">\n",
       "      <th></th>\n",
       "      <th>Tags</th>\n",
       "      <th>Frequency</th>\n",
       "    </tr>\n",
       "  </thead>\n",
       "  <tbody>\n",
       "    <tr>\n",
       "      <th>0</th>\n",
       "      <td>c#</td>\n",
       "      <td>6575</td>\n",
       "    </tr>\n",
       "    <tr>\n",
       "      <th>1</th>\n",
       "      <td>java</td>\n",
       "      <td>6096</td>\n",
       "    </tr>\n",
       "    <tr>\n",
       "      <th>2</th>\n",
       "      <td>javascript</td>\n",
       "      <td>5305</td>\n",
       "    </tr>\n",
       "    <tr>\n",
       "      <th>3</th>\n",
       "      <td>python</td>\n",
       "      <td>4383</td>\n",
       "    </tr>\n",
       "    <tr>\n",
       "      <th>4</th>\n",
       "      <td>c++</td>\n",
       "      <td>3288</td>\n",
       "    </tr>\n",
       "    <tr>\n",
       "      <th>...</th>\n",
       "      <td>...</td>\n",
       "      <td>...</td>\n",
       "    </tr>\n",
       "    <tr>\n",
       "      <th>18628</th>\n",
       "      <td>brotli</td>\n",
       "      <td>1</td>\n",
       "    </tr>\n",
       "    <tr>\n",
       "      <th>18629</th>\n",
       "      <td>custom-eventlog</td>\n",
       "      <td>1</td>\n",
       "    </tr>\n",
       "    <tr>\n",
       "      <th>18630</th>\n",
       "      <td>radare2</td>\n",
       "      <td>1</td>\n",
       "    </tr>\n",
       "    <tr>\n",
       "      <th>18631</th>\n",
       "      <td>enlive</td>\n",
       "      <td>1</td>\n",
       "    </tr>\n",
       "    <tr>\n",
       "      <th>18632</th>\n",
       "      <td>activation-codes</td>\n",
       "      <td>1</td>\n",
       "    </tr>\n",
       "  </tbody>\n",
       "</table>\n",
       "<p>18633 rows × 2 columns</p>\n",
       "</div>"
      ],
      "text/plain": [
       "                   Tags  Frequency\n",
       "0                    c#       6575\n",
       "1                  java       6096\n",
       "2            javascript       5305\n",
       "3                python       4383\n",
       "4                   c++       3288\n",
       "...                 ...        ...\n",
       "18628            brotli          1\n",
       "18629   custom-eventlog          1\n",
       "18630           radare2          1\n",
       "18631            enlive          1\n",
       "18632  activation-codes          1\n",
       "\n",
       "[18633 rows x 2 columns]"
      ]
     },
     "execution_count": 36,
     "metadata": {},
     "output_type": "execute_result"
    }
   ],
   "source": [
    "# Calcul de fréquence des différents tags\n",
    "freq_tags = raw_data['Tags_trf_text'].str.cat(sep=' ')\n",
    "words = freq_tags.split()\n",
    "Word_dist = nltk.FreqDist(words)\n",
    "df_freq_tags = pd.DataFrame(Word_dist.most_common(),columns=['Tags', 'Frequency'])\n",
    "df_freq_tags"
   ]
  },
  {
   "cell_type": "code",
   "execution_count": 37,
   "id": "06911be4",
   "metadata": {},
   "outputs": [
    {
     "data": {
      "image/png": "[encoded data removed]",
      "text/plain": [
       "<Figure size 1440x360 with 1 Axes>"
      ]
     },
     "metadata": {
      "needs_background": "light"
     },
     "output_type": "display_data"
    }
   ],
   "source": [
    "#Préparation d'un graphe d'affichage des 100 tags les plus fréquents\n",
    "plt.rcParams[\"figure.figsize\"] = [20, 5]\n",
    "plt.bar('Tags', 'Frequency', data=df_freq_tags[:100], color='g')\n",
    "plt.xlabel('Tag', fontsize=14)\n",
    "plt.xticks(rotation=90)\n",
    "plt.title('Fréquence d\\'apparition des 100 tags les plus fréquents sur le jeu de données complet')\n",
    "plt.show()"
   ]
  },
  {
   "cell_type": "code",
   "execution_count": 38,
   "id": "578919af",
   "metadata": {},
   "outputs": [
    {
     "name": "stdout",
     "output_type": "stream",
     "text": [
      "<class 'pandas.core.frame.DataFrame'>\n",
      "RangeIndex: 50000 entries, 0 to 49999\n",
      "Data columns (total 8 columns):\n",
      " #   Column         Non-Null Count  Dtype \n",
      "---  ------         --------------  ----- \n",
      " 0   Title          50000 non-null  object\n",
      " 1   Body           50000 non-null  object\n",
      " 2   Tags           50000 non-null  object\n",
      " 3   Body_trf       50000 non-null  object\n",
      " 4   Title_trf      50000 non-null  object\n",
      " 5   Title_body     50000 non-null  object\n",
      " 6   Tags_trf_list  50000 non-null  object\n",
      " 7   Tags_trf_text  50000 non-null  object\n",
      "dtypes: object(8)\n",
      "memory usage: 3.1+ MB\n"
     ]
    }
   ],
   "source": [
    "raw_data.info()"
   ]
  },
  {
   "cell_type": "code",
   "execution_count": 39,
   "id": "5f406531",
   "metadata": {},
   "outputs": [
    {
     "data": {
      "text/html": [
       "<div>\n",
       "<style scoped>\n",
       "    .dataframe tbody tr th:only-of-type {\n",
       "        vertical-align: middle;\n",
       "    }\n",
       "\n",
       "    .dataframe tbody tr th {\n",
       "        vertical-align: top;\n",
       "    }\n",
       "\n",
       "    .dataframe thead th {\n",
       "        text-align: right;\n",
       "    }\n",
       "</style>\n",
       "<table border=\"1\" class=\"dataframe\">\n",
       "  <thead>\n",
       "    <tr style=\"text-align: right;\">\n",
       "      <th></th>\n",
       "      <th>Title</th>\n",
       "      <th>Body</th>\n",
       "      <th>Tags</th>\n",
       "      <th>Body_trf</th>\n",
       "      <th>Title_trf</th>\n",
       "      <th>Title_body</th>\n",
       "      <th>Tags_trf_list</th>\n",
       "      <th>Tags_trf_text</th>\n",
       "    </tr>\n",
       "  </thead>\n",
       "  <tbody>\n",
       "    <tr>\n",
       "      <th>0</th>\n",
       "      <td>mqtt async wait for concurrent messages then r...</td>\n",
       "      <td>&lt;p&gt;I have this process for home automation pro...</td>\n",
       "      <td>&lt;javascript&gt;&lt;node.js&gt;&lt;http&gt;&lt;async-await&gt;&lt;mqtt&gt;</td>\n",
       "      <td>[process, home, automation, project, receive, ...</td>\n",
       "      <td>[mqtt, async, wait, concurrent, message, respo...</td>\n",
       "      <td>[mqtt, async, wait, concurrent, message, respo...</td>\n",
       "      <td>[javascript, node.js, http, async-await, mqtt]</td>\n",
       "      <td>javascript node.js http async-await mqtt</td>\n",
       "    </tr>\n",
       "    <tr>\n",
       "      <th>1</th>\n",
       "      <td>Where can I find a nice .NET Tab Control for f...</td>\n",
       "      <td>&lt;p&gt;I'm doing this application in C# using the ...</td>\n",
       "      <td>&lt;c#&gt;&lt;.net&gt;&lt;winforms&gt;&lt;tabcontrol&gt;&lt;krypton&gt;</td>\n",
       "      <td>[application, using, free, krypton, toolkit, k...</td>\n",
       "      <td>[find, nice, net, tab, control, free]</td>\n",
       "      <td>[find, nice, net, tab, control, free, applicat...</td>\n",
       "      <td>[c#, .net, winforms, tabcontrol, krypton]</td>\n",
       "      <td>c# .net winforms tabcontrol krypton</td>\n",
       "    </tr>\n",
       "    <tr>\n",
       "      <th>2</th>\n",
       "      <td>How to smoothly move a button in cocos2d Xcode</td>\n",
       "      <td>&lt;p&gt;I have a jump button, that when clicked the...</td>\n",
       "      <td>&lt;iphone&gt;&lt;ios&gt;&lt;cocoa&gt;&lt;opengl-es&gt;&lt;cocos2d-iphone&gt;</td>\n",
       "      <td>[jump, button, clicked, player, game, jump, bu...</td>\n",
       "      <td>[smoothly, move, button, coco, xcode]</td>\n",
       "      <td>[smoothly, move, button, coco, xcode, jump, bu...</td>\n",
       "      <td>[iphone, ios, cocoa, opengl-es, cocos2d-iphone]</td>\n",
       "      <td>iphone ios cocoa opengl-es cocos2d-iphone</td>\n",
       "    </tr>\n",
       "    <tr>\n",
       "      <th>3</th>\n",
       "      <td>How to get NSImage of generic folder icon on O...</td>\n",
       "      <td>&lt;p&gt;I'm writing a Cocoa application that displa...</td>\n",
       "      <td>&lt;objective-c&gt;&lt;cocoa&gt;&lt;icons&gt;&lt;directory&gt;&lt;nsimage&gt;</td>\n",
       "      <td>[writing, cocoa, application, display, content...</td>\n",
       "      <td>[get, nsimage, generic, folder, icon, o]</td>\n",
       "      <td>[get, nsimage, generic, folder, icon, o, writi...</td>\n",
       "      <td>[objective-c, cocoa, icons, directory, nsimage]</td>\n",
       "      <td>objective-c cocoa icons directory nsimage</td>\n",
       "    </tr>\n",
       "    <tr>\n",
       "      <th>4</th>\n",
       "      <td>Replace query string with '/' via .htaccess file</td>\n",
       "      <td>&lt;p&gt;&lt;a href=\"http://thewebsitedemo.com/Just-dia...</td>\n",
       "      <td>&lt;php&gt;&lt;string&gt;&lt;.htaccess&gt;&lt;url&gt;&lt;replace&gt;</td>\n",
       "      <td>[http, thewebsitedemo, com, dial, chandigarh, ...</td>\n",
       "      <td>[replace, query, string, via, htaccess, file]</td>\n",
       "      <td>[replace, query, string, via, htaccess, file, ...</td>\n",
       "      <td>[php, string, .htaccess, url, replace]</td>\n",
       "      <td>php string .htaccess url replace</td>\n",
       "    </tr>\n",
       "  </tbody>\n",
       "</table>\n",
       "</div>"
      ],
      "text/plain": [
       "                                               Title  \\\n",
       "0  mqtt async wait for concurrent messages then r...   \n",
       "1  Where can I find a nice .NET Tab Control for f...   \n",
       "2     How to smoothly move a button in cocos2d Xcode   \n",
       "3  How to get NSImage of generic folder icon on O...   \n",
       "4   Replace query string with '/' via .htaccess file   \n",
       "\n",
       "                                                Body  \\\n",
       "0  <p>I have this process for home automation pro...   \n",
       "1  <p>I'm doing this application in C# using the ...   \n",
       "2  <p>I have a jump button, that when clicked the...   \n",
       "3  <p>I'm writing a Cocoa application that displa...   \n",
       "4  <p><a href=\"http://thewebsitedemo.com/Just-dia...   \n",
       "\n",
       "                                              Tags  \\\n",
       "0   <javascript><node.js><http><async-await><mqtt>   \n",
       "1        <c#><.net><winforms><tabcontrol><krypton>   \n",
       "2  <iphone><ios><cocoa><opengl-es><cocos2d-iphone>   \n",
       "3  <objective-c><cocoa><icons><directory><nsimage>   \n",
       "4           <php><string><.htaccess><url><replace>   \n",
       "\n",
       "                                            Body_trf  \\\n",
       "0  [process, home, automation, project, receive, ...   \n",
       "1  [application, using, free, krypton, toolkit, k...   \n",
       "2  [jump, button, clicked, player, game, jump, bu...   \n",
       "3  [writing, cocoa, application, display, content...   \n",
       "4  [http, thewebsitedemo, com, dial, chandigarh, ...   \n",
       "\n",
       "                                           Title_trf  \\\n",
       "0  [mqtt, async, wait, concurrent, message, respo...   \n",
       "1              [find, nice, net, tab, control, free]   \n",
       "2              [smoothly, move, button, coco, xcode]   \n",
       "3           [get, nsimage, generic, folder, icon, o]   \n",
       "4      [replace, query, string, via, htaccess, file]   \n",
       "\n",
       "                                          Title_body  \\\n",
       "0  [mqtt, async, wait, concurrent, message, respo...   \n",
       "1  [find, nice, net, tab, control, free, applicat...   \n",
       "2  [smoothly, move, button, coco, xcode, jump, bu...   \n",
       "3  [get, nsimage, generic, folder, icon, o, writi...   \n",
       "4  [replace, query, string, via, htaccess, file, ...   \n",
       "\n",
       "                                     Tags_trf_list  \\\n",
       "0   [javascript, node.js, http, async-await, mqtt]   \n",
       "1        [c#, .net, winforms, tabcontrol, krypton]   \n",
       "2  [iphone, ios, cocoa, opengl-es, cocos2d-iphone]   \n",
       "3  [objective-c, cocoa, icons, directory, nsimage]   \n",
       "4           [php, string, .htaccess, url, replace]   \n",
       "\n",
       "                               Tags_trf_text  \n",
       "0   javascript node.js http async-await mqtt  \n",
       "1        c# .net winforms tabcontrol krypton  \n",
       "2  iphone ios cocoa opengl-es cocos2d-iphone  \n",
       "3  objective-c cocoa icons directory nsimage  \n",
       "4           php string .htaccess url replace  "
      ]
     },
     "execution_count": 39,
     "metadata": {},
     "output_type": "execute_result"
    }
   ],
   "source": [
    "raw_data.head(5)"
   ]
  },
  {
   "cell_type": "code",
   "execution_count": 40,
   "id": "4e21741d",
   "metadata": {},
   "outputs": [],
   "source": [
    "#5 Limitation des tags aux 100 les plus fréquents\n",
    "# ( Pour notamment les modèles supervisés, il pourra être pertinent de limiter le nombre de tags )"
   ]
  },
  {
   "cell_type": "code",
   "execution_count": 41,
   "id": "3de11222",
   "metadata": {},
   "outputs": [],
   "source": [
    "dict_tag = gensim.corpora.Dictionary(raw_data['Tags_trf_list'])"
   ]
  },
  {
   "cell_type": "code",
   "execution_count": 42,
   "id": "a00a611f",
   "metadata": {},
   "outputs": [
    {
     "data": {
      "text/plain": [
       "18633"
      ]
     },
     "execution_count": 42,
     "metadata": {},
     "output_type": "execute_result"
    }
   ],
   "source": [
    "len(dict_tag)"
   ]
  },
  {
   "cell_type": "code",
   "execution_count": 43,
   "id": "5b0732d2",
   "metadata": {},
   "outputs": [],
   "source": [
    "dict_tag.filter_extremes(keep_n=100)"
   ]
  },
  {
   "cell_type": "code",
   "execution_count": 44,
   "id": "a9b67fe7",
   "metadata": {},
   "outputs": [
    {
     "data": {
      "text/plain": [
       "100"
      ]
     },
     "execution_count": 44,
     "metadata": {},
     "output_type": "execute_result"
    }
   ],
   "source": [
    "len(dict_tag)"
   ]
  },
  {
   "cell_type": "code",
   "execution_count": 45,
   "id": "5645e395",
   "metadata": {},
   "outputs": [
    {
     "name": "stdout",
     "output_type": "stream",
     "text": [
      "{'http': 0, 'javascript': 1, 'node.js': 2, '.net': 3, 'c#': 4, 'winforms': 5, 'cocoa': 6, 'ios': 7, 'iphone': 8, 'objective-c': 9, 'php': 10, 'string': 11, 'swift': 12, 'c++': 13, 'css': 14, 'html': 15, 'reactjs': 16, 'file': 17, 'asp.net': 18, 'android': 19, 'java': 20, 'xcode': 21, 'linq': 22, 'python': 23, 'sql-server': 24, 'performance': 25, 'windows': 26, 'testing': 27, 'typescript': 28, 'cocoa-touch': 29, 'django': 30, 'mysql': 31, 'api': 32, 'rest': 33, 'angularjs': 34, 'shell': 35, 'ruby': 36, 'sql': 37, 'wpf': 38, 'c++11': 39, 'apache': 40, 'vb.net': 41, 'xaml': 42, 'amazon-web-services': 43, 'c': 44, 'unit-testing': 45, 'authentication': 46, 'database': 47, 'image': 48, 'wcf': 49, 'jquery': 50, 'ajax': 51, 'macos': 52, 'asp.net-mvc': 53, 'visual-studio': 54, 'python-2.7': 55, 'debugging': 56, 'winapi': 57, 'postgresql': 58, 'linux': 59, 'selenium': 60, 'pandas': 61, 'optimization': 62, 'algorithm': 63, 'security': 64, 'ssl': 65, 'arrays': 66, 'ruby-on-rails': 67, 'xml': 68, 'regex': 69, 'eclipse': 70, 'bash': 71, 'excel': 72, 'angular': 73, 'validation': 74, 'list': 75, 'qt': 76, 'user-interface': 77, 'multithreading': 78, 'spring': 79, 'docker': 80, 'spring-boot': 81, 'r': 82, 'parsing': 83, 'json': 84, 'forms': 85, 'python-3.x': 86, 'mongodb': 87, 'numpy': 88, 'oracle': 89, 'spring-mvc': 90, 'git': 91, 'web-services': 92, 'entity-framework': 93, 'gcc': 94, 'wordpress': 95, 'laravel': 96, 'hibernate': 97, 'jpa': 98, 'scala': 99}\n"
     ]
    }
   ],
   "source": [
    "print(dict_tag.token2id)"
   ]
  },
  {
   "cell_type": "code",
   "execution_count": 46,
   "id": "e5e6a3f0",
   "metadata": {},
   "outputs": [
    {
     "data": {
      "text/plain": [
       "'http'"
      ]
     },
     "execution_count": 46,
     "metadata": {},
     "output_type": "execute_result"
    }
   ],
   "source": [
    "dict_tag[0]"
   ]
  },
  {
   "cell_type": "code",
   "execution_count": 47,
   "id": "6b97d45c",
   "metadata": {},
   "outputs": [],
   "source": [
    "#  Fonction de conservation des tags appartenant aux 100 tags les plus fréquents\n",
    "\n",
    "def keep_freq_tags(list):\n",
    "\n",
    "    words = [x for x in list if x in dict_tag.token2id]\n",
    "\n",
    "    return words"
   ]
  },
  {
   "cell_type": "code",
   "execution_count": 48,
   "id": "cf8d4a11",
   "metadata": {},
   "outputs": [],
   "source": [
    "raw_data['Tags_trf_list_100'] = raw_data['Tags_trf_list'].apply( keep_freq_tags)"
   ]
  },
  {
   "cell_type": "code",
   "execution_count": 49,
   "id": "1247118f",
   "metadata": {},
   "outputs": [
    {
     "data": {
      "text/html": [
       "<div>\n",
       "<style scoped>\n",
       "    .dataframe tbody tr th:only-of-type {\n",
       "        vertical-align: middle;\n",
       "    }\n",
       "\n",
       "    .dataframe tbody tr th {\n",
       "        vertical-align: top;\n",
       "    }\n",
       "\n",
       "    .dataframe thead th {\n",
       "        text-align: right;\n",
       "    }\n",
       "</style>\n",
       "<table border=\"1\" class=\"dataframe\">\n",
       "  <thead>\n",
       "    <tr style=\"text-align: right;\">\n",
       "      <th></th>\n",
       "      <th>Title</th>\n",
       "      <th>Body</th>\n",
       "      <th>Tags</th>\n",
       "      <th>Body_trf</th>\n",
       "      <th>Title_trf</th>\n",
       "      <th>Title_body</th>\n",
       "      <th>Tags_trf_list</th>\n",
       "      <th>Tags_trf_text</th>\n",
       "      <th>Tags_trf_list_100</th>\n",
       "    </tr>\n",
       "  </thead>\n",
       "  <tbody>\n",
       "    <tr>\n",
       "      <th>0</th>\n",
       "      <td>mqtt async wait for concurrent messages then r...</td>\n",
       "      <td>&lt;p&gt;I have this process for home automation pro...</td>\n",
       "      <td>&lt;javascript&gt;&lt;node.js&gt;&lt;http&gt;&lt;async-await&gt;&lt;mqtt&gt;</td>\n",
       "      <td>[process, home, automation, project, receive, ...</td>\n",
       "      <td>[mqtt, async, wait, concurrent, message, respo...</td>\n",
       "      <td>[mqtt, async, wait, concurrent, message, respo...</td>\n",
       "      <td>[javascript, node.js, http, async-await, mqtt]</td>\n",
       "      <td>javascript node.js http async-await mqtt</td>\n",
       "      <td>[javascript, node.js, http]</td>\n",
       "    </tr>\n",
       "    <tr>\n",
       "      <th>1</th>\n",
       "      <td>Where can I find a nice .NET Tab Control for f...</td>\n",
       "      <td>&lt;p&gt;I'm doing this application in C# using the ...</td>\n",
       "      <td>&lt;c#&gt;&lt;.net&gt;&lt;winforms&gt;&lt;tabcontrol&gt;&lt;krypton&gt;</td>\n",
       "      <td>[application, using, free, krypton, toolkit, k...</td>\n",
       "      <td>[find, nice, net, tab, control, free]</td>\n",
       "      <td>[find, nice, net, tab, control, free, applicat...</td>\n",
       "      <td>[c#, .net, winforms, tabcontrol, krypton]</td>\n",
       "      <td>c# .net winforms tabcontrol krypton</td>\n",
       "      <td>[c#, .net, winforms]</td>\n",
       "    </tr>\n",
       "    <tr>\n",
       "      <th>2</th>\n",
       "      <td>How to smoothly move a button in cocos2d Xcode</td>\n",
       "      <td>&lt;p&gt;I have a jump button, that when clicked the...</td>\n",
       "      <td>&lt;iphone&gt;&lt;ios&gt;&lt;cocoa&gt;&lt;opengl-es&gt;&lt;cocos2d-iphone&gt;</td>\n",
       "      <td>[jump, button, clicked, player, game, jump, bu...</td>\n",
       "      <td>[smoothly, move, button, coco, xcode]</td>\n",
       "      <td>[smoothly, move, button, coco, xcode, jump, bu...</td>\n",
       "      <td>[iphone, ios, cocoa, opengl-es, cocos2d-iphone]</td>\n",
       "      <td>iphone ios cocoa opengl-es cocos2d-iphone</td>\n",
       "      <td>[iphone, ios, cocoa]</td>\n",
       "    </tr>\n",
       "    <tr>\n",
       "      <th>3</th>\n",
       "      <td>How to get NSImage of generic folder icon on O...</td>\n",
       "      <td>&lt;p&gt;I'm writing a Cocoa application that displa...</td>\n",
       "      <td>&lt;objective-c&gt;&lt;cocoa&gt;&lt;icons&gt;&lt;directory&gt;&lt;nsimage&gt;</td>\n",
       "      <td>[writing, cocoa, application, display, content...</td>\n",
       "      <td>[get, nsimage, generic, folder, icon, o]</td>\n",
       "      <td>[get, nsimage, generic, folder, icon, o, writi...</td>\n",
       "      <td>[objective-c, cocoa, icons, directory, nsimage]</td>\n",
       "      <td>objective-c cocoa icons directory nsimage</td>\n",
       "      <td>[objective-c, cocoa]</td>\n",
       "    </tr>\n",
       "    <tr>\n",
       "      <th>4</th>\n",
       "      <td>Replace query string with '/' via .htaccess file</td>\n",
       "      <td>&lt;p&gt;&lt;a href=\"http://thewebsitedemo.com/Just-dia...</td>\n",
       "      <td>&lt;php&gt;&lt;string&gt;&lt;.htaccess&gt;&lt;url&gt;&lt;replace&gt;</td>\n",
       "      <td>[http, thewebsitedemo, com, dial, chandigarh, ...</td>\n",
       "      <td>[replace, query, string, via, htaccess, file]</td>\n",
       "      <td>[replace, query, string, via, htaccess, file, ...</td>\n",
       "      <td>[php, string, .htaccess, url, replace]</td>\n",
       "      <td>php string .htaccess url replace</td>\n",
       "      <td>[php, string]</td>\n",
       "    </tr>\n",
       "  </tbody>\n",
       "</table>\n",
       "</div>"
      ],
      "text/plain": [
       "                                               Title  \\\n",
       "0  mqtt async wait for concurrent messages then r...   \n",
       "1  Where can I find a nice .NET Tab Control for f...   \n",
       "2     How to smoothly move a button in cocos2d Xcode   \n",
       "3  How to get NSImage of generic folder icon on O...   \n",
       "4   Replace query string with '/' via .htaccess file   \n",
       "\n",
       "                                                Body  \\\n",
       "0  <p>I have this process for home automation pro...   \n",
       "1  <p>I'm doing this application in C# using the ...   \n",
       "2  <p>I have a jump button, that when clicked the...   \n",
       "3  <p>I'm writing a Cocoa application that displa...   \n",
       "4  <p><a href=\"http://thewebsitedemo.com/Just-dia...   \n",
       "\n",
       "                                              Tags  \\\n",
       "0   <javascript><node.js><http><async-await><mqtt>   \n",
       "1        <c#><.net><winforms><tabcontrol><krypton>   \n",
       "2  <iphone><ios><cocoa><opengl-es><cocos2d-iphone>   \n",
       "3  <objective-c><cocoa><icons><directory><nsimage>   \n",
       "4           <php><string><.htaccess><url><replace>   \n",
       "\n",
       "                                            Body_trf  \\\n",
       "0  [process, home, automation, project, receive, ...   \n",
       "1  [application, using, free, krypton, toolkit, k...   \n",
       "2  [jump, button, clicked, player, game, jump, bu...   \n",
       "3  [writing, cocoa, application, display, content...   \n",
       "4  [http, thewebsitedemo, com, dial, chandigarh, ...   \n",
       "\n",
       "                                           Title_trf  \\\n",
       "0  [mqtt, async, wait, concurrent, message, respo...   \n",
       "1              [find, nice, net, tab, control, free]   \n",
       "2              [smoothly, move, button, coco, xcode]   \n",
       "3           [get, nsimage, generic, folder, icon, o]   \n",
       "4      [replace, query, string, via, htaccess, file]   \n",
       "\n",
       "                                          Title_body  \\\n",
       "0  [mqtt, async, wait, concurrent, message, respo...   \n",
       "1  [find, nice, net, tab, control, free, applicat...   \n",
       "2  [smoothly, move, button, coco, xcode, jump, bu...   \n",
       "3  [get, nsimage, generic, folder, icon, o, writi...   \n",
       "4  [replace, query, string, via, htaccess, file, ...   \n",
       "\n",
       "                                     Tags_trf_list  \\\n",
       "0   [javascript, node.js, http, async-await, mqtt]   \n",
       "1        [c#, .net, winforms, tabcontrol, krypton]   \n",
       "2  [iphone, ios, cocoa, opengl-es, cocos2d-iphone]   \n",
       "3  [objective-c, cocoa, icons, directory, nsimage]   \n",
       "4           [php, string, .htaccess, url, replace]   \n",
       "\n",
       "                               Tags_trf_text            Tags_trf_list_100  \n",
       "0   javascript node.js http async-await mqtt  [javascript, node.js, http]  \n",
       "1        c# .net winforms tabcontrol krypton         [c#, .net, winforms]  \n",
       "2  iphone ios cocoa opengl-es cocos2d-iphone         [iphone, ios, cocoa]  \n",
       "3  objective-c cocoa icons directory nsimage         [objective-c, cocoa]  \n",
       "4           php string .htaccess url replace                [php, string]  "
      ]
     },
     "execution_count": 49,
     "metadata": {},
     "output_type": "execute_result"
    }
   ],
   "source": [
    "raw_data.head(5)"
   ]
  },
  {
   "cell_type": "code",
   "execution_count": 50,
   "id": "630bc800",
   "metadata": {},
   "outputs": [],
   "source": [
    "# Création d'une donnée Tags en zone de texte limitée aux 100 tags les plus fréquents\n",
    "for k in range (len(raw_data)):\n",
    "    raw_data.loc[raw_data.index[k],'Tags_trf_text_100'] = ' '.join(raw_data.iloc[k]['Tags_trf_list_100'])"
   ]
  },
  {
   "cell_type": "code",
   "execution_count": 51,
   "id": "9b398a6e",
   "metadata": {},
   "outputs": [],
   "source": [
    "# Création d'une donnée Title-Body en zone de texte et non en liste (utile pour notamment les modèles de word embedding)\n",
    "for k in range (len(raw_data)):\n",
    "    raw_data.loc[raw_data.index[k],'Title_body_text'] = ' '.join(raw_data.iloc[k]['Title_body'])"
   ]
  },
  {
   "cell_type": "code",
   "execution_count": 52,
   "id": "56890136",
   "metadata": {
    "scrolled": true
   },
   "outputs": [
    {
     "data": {
      "text/html": [
       "<div>\n",
       "<style scoped>\n",
       "    .dataframe tbody tr th:only-of-type {\n",
       "        vertical-align: middle;\n",
       "    }\n",
       "\n",
       "    .dataframe tbody tr th {\n",
       "        vertical-align: top;\n",
       "    }\n",
       "\n",
       "    .dataframe thead th {\n",
       "        text-align: right;\n",
       "    }\n",
       "</style>\n",
       "<table border=\"1\" class=\"dataframe\">\n",
       "  <thead>\n",
       "    <tr style=\"text-align: right;\">\n",
       "      <th></th>\n",
       "      <th>Title</th>\n",
       "      <th>Body</th>\n",
       "      <th>Tags</th>\n",
       "      <th>Body_trf</th>\n",
       "      <th>Title_trf</th>\n",
       "      <th>Title_body</th>\n",
       "      <th>Tags_trf_list</th>\n",
       "      <th>Tags_trf_text</th>\n",
       "      <th>Tags_trf_list_100</th>\n",
       "      <th>Tags_trf_text_100</th>\n",
       "      <th>Title_body_text</th>\n",
       "    </tr>\n",
       "  </thead>\n",
       "  <tbody>\n",
       "    <tr>\n",
       "      <th>0</th>\n",
       "      <td>mqtt async wait for concurrent messages then r...</td>\n",
       "      <td>&lt;p&gt;I have this process for home automation pro...</td>\n",
       "      <td>&lt;javascript&gt;&lt;node.js&gt;&lt;http&gt;&lt;async-await&gt;&lt;mqtt&gt;</td>\n",
       "      <td>[process, home, automation, project, receive, ...</td>\n",
       "      <td>[mqtt, async, wait, concurrent, message, respo...</td>\n",
       "      <td>[mqtt, async, wait, concurrent, message, respo...</td>\n",
       "      <td>[javascript, node.js, http, async-await, mqtt]</td>\n",
       "      <td>javascript node.js http async-await mqtt</td>\n",
       "      <td>[javascript, node.js, http]</td>\n",
       "      <td>javascript node.js http</td>\n",
       "      <td>mqtt async wait concurrent message respond res...</td>\n",
       "    </tr>\n",
       "    <tr>\n",
       "      <th>1</th>\n",
       "      <td>Where can I find a nice .NET Tab Control for f...</td>\n",
       "      <td>&lt;p&gt;I'm doing this application in C# using the ...</td>\n",
       "      <td>&lt;c#&gt;&lt;.net&gt;&lt;winforms&gt;&lt;tabcontrol&gt;&lt;krypton&gt;</td>\n",
       "      <td>[application, using, free, krypton, toolkit, k...</td>\n",
       "      <td>[find, nice, net, tab, control, free]</td>\n",
       "      <td>[find, nice, net, tab, control, free, applicat...</td>\n",
       "      <td>[c#, .net, winforms, tabcontrol, krypton]</td>\n",
       "      <td>c# .net winforms tabcontrol krypton</td>\n",
       "      <td>[c#, .net, winforms]</td>\n",
       "      <td>c# .net winforms</td>\n",
       "      <td>find nice net tab control free application usi...</td>\n",
       "    </tr>\n",
       "    <tr>\n",
       "      <th>2</th>\n",
       "      <td>How to smoothly move a button in cocos2d Xcode</td>\n",
       "      <td>&lt;p&gt;I have a jump button, that when clicked the...</td>\n",
       "      <td>&lt;iphone&gt;&lt;ios&gt;&lt;cocoa&gt;&lt;opengl-es&gt;&lt;cocos2d-iphone&gt;</td>\n",
       "      <td>[jump, button, clicked, player, game, jump, bu...</td>\n",
       "      <td>[smoothly, move, button, coco, xcode]</td>\n",
       "      <td>[smoothly, move, button, coco, xcode, jump, bu...</td>\n",
       "      <td>[iphone, ios, cocoa, opengl-es, cocos2d-iphone]</td>\n",
       "      <td>iphone ios cocoa opengl-es cocos2d-iphone</td>\n",
       "      <td>[iphone, ios, cocoa]</td>\n",
       "      <td>iphone ios cocoa</td>\n",
       "      <td>smoothly move button coco xcode jump button cl...</td>\n",
       "    </tr>\n",
       "    <tr>\n",
       "      <th>3</th>\n",
       "      <td>How to get NSImage of generic folder icon on O...</td>\n",
       "      <td>&lt;p&gt;I'm writing a Cocoa application that displa...</td>\n",
       "      <td>&lt;objective-c&gt;&lt;cocoa&gt;&lt;icons&gt;&lt;directory&gt;&lt;nsimage&gt;</td>\n",
       "      <td>[writing, cocoa, application, display, content...</td>\n",
       "      <td>[get, nsimage, generic, folder, icon, o]</td>\n",
       "      <td>[get, nsimage, generic, folder, icon, o, writi...</td>\n",
       "      <td>[objective-c, cocoa, icons, directory, nsimage]</td>\n",
       "      <td>objective-c cocoa icons directory nsimage</td>\n",
       "      <td>[objective-c, cocoa]</td>\n",
       "      <td>objective-c cocoa</td>\n",
       "      <td>get nsimage generic folder icon o writing coco...</td>\n",
       "    </tr>\n",
       "    <tr>\n",
       "      <th>4</th>\n",
       "      <td>Replace query string with '/' via .htaccess file</td>\n",
       "      <td>&lt;p&gt;&lt;a href=\"http://thewebsitedemo.com/Just-dia...</td>\n",
       "      <td>&lt;php&gt;&lt;string&gt;&lt;.htaccess&gt;&lt;url&gt;&lt;replace&gt;</td>\n",
       "      <td>[http, thewebsitedemo, com, dial, chandigarh, ...</td>\n",
       "      <td>[replace, query, string, via, htaccess, file]</td>\n",
       "      <td>[replace, query, string, via, htaccess, file, ...</td>\n",
       "      <td>[php, string, .htaccess, url, replace]</td>\n",
       "      <td>php string .htaccess url replace</td>\n",
       "      <td>[php, string]</td>\n",
       "      <td>php string</td>\n",
       "      <td>replace query string via htaccess file http th...</td>\n",
       "    </tr>\n",
       "  </tbody>\n",
       "</table>\n",
       "</div>"
      ],
      "text/plain": [
       "                                               Title  \\\n",
       "0  mqtt async wait for concurrent messages then r...   \n",
       "1  Where can I find a nice .NET Tab Control for f...   \n",
       "2     How to smoothly move a button in cocos2d Xcode   \n",
       "3  How to get NSImage of generic folder icon on O...   \n",
       "4   Replace query string with '/' via .htaccess file   \n",
       "\n",
       "                                                Body  \\\n",
       "0  <p>I have this process for home automation pro...   \n",
       "1  <p>I'm doing this application in C# using the ...   \n",
       "2  <p>I have a jump button, that when clicked the...   \n",
       "3  <p>I'm writing a Cocoa application that displa...   \n",
       "4  <p><a href=\"http://thewebsitedemo.com/Just-dia...   \n",
       "\n",
       "                                              Tags  \\\n",
       "0   <javascript><node.js><http><async-await><mqtt>   \n",
       "1        <c#><.net><winforms><tabcontrol><krypton>   \n",
       "2  <iphone><ios><cocoa><opengl-es><cocos2d-iphone>   \n",
       "3  <objective-c><cocoa><icons><directory><nsimage>   \n",
       "4           <php><string><.htaccess><url><replace>   \n",
       "\n",
       "                                            Body_trf  \\\n",
       "0  [process, home, automation, project, receive, ...   \n",
       "1  [application, using, free, krypton, toolkit, k...   \n",
       "2  [jump, button, clicked, player, game, jump, bu...   \n",
       "3  [writing, cocoa, application, display, content...   \n",
       "4  [http, thewebsitedemo, com, dial, chandigarh, ...   \n",
       "\n",
       "                                           Title_trf  \\\n",
       "0  [mqtt, async, wait, concurrent, message, respo...   \n",
       "1              [find, nice, net, tab, control, free]   \n",
       "2              [smoothly, move, button, coco, xcode]   \n",
       "3           [get, nsimage, generic, folder, icon, o]   \n",
       "4      [replace, query, string, via, htaccess, file]   \n",
       "\n",
       "                                          Title_body  \\\n",
       "0  [mqtt, async, wait, concurrent, message, respo...   \n",
       "1  [find, nice, net, tab, control, free, applicat...   \n",
       "2  [smoothly, move, button, coco, xcode, jump, bu...   \n",
       "3  [get, nsimage, generic, folder, icon, o, writi...   \n",
       "4  [replace, query, string, via, htaccess, file, ...   \n",
       "\n",
       "                                     Tags_trf_list  \\\n",
       "0   [javascript, node.js, http, async-await, mqtt]   \n",
       "1        [c#, .net, winforms, tabcontrol, krypton]   \n",
       "2  [iphone, ios, cocoa, opengl-es, cocos2d-iphone]   \n",
       "3  [objective-c, cocoa, icons, directory, nsimage]   \n",
       "4           [php, string, .htaccess, url, replace]   \n",
       "\n",
       "                               Tags_trf_text            Tags_trf_list_100  \\\n",
       "0   javascript node.js http async-await mqtt  [javascript, node.js, http]   \n",
       "1        c# .net winforms tabcontrol krypton         [c#, .net, winforms]   \n",
       "2  iphone ios cocoa opengl-es cocos2d-iphone         [iphone, ios, cocoa]   \n",
       "3  objective-c cocoa icons directory nsimage         [objective-c, cocoa]   \n",
       "4           php string .htaccess url replace                [php, string]   \n",
       "\n",
       "         Tags_trf_text_100                                    Title_body_text  \n",
       "0  javascript node.js http  mqtt async wait concurrent message respond res...  \n",
       "1         c# .net winforms  find nice net tab control free application usi...  \n",
       "2         iphone ios cocoa  smoothly move button coco xcode jump button cl...  \n",
       "3        objective-c cocoa  get nsimage generic folder icon o writing coco...  \n",
       "4               php string  replace query string via htaccess file http th...  "
      ]
     },
     "execution_count": 52,
     "metadata": {},
     "output_type": "execute_result"
    }
   ],
   "source": [
    "raw_data.head(5)"
   ]
  },
  {
   "cell_type": "code",
   "execution_count": 53,
   "id": "9a417794",
   "metadata": {},
   "outputs": [],
   "source": [
    "#6 Séparation du jeu de données en train / test"
   ]
  },
  {
   "cell_type": "code",
   "execution_count": 54,
   "id": "9165ad85",
   "metadata": {},
   "outputs": [],
   "source": [
    "raw_data_train, raw_data_test = train_test_split(raw_data, test_size=0.3,random_state=42)"
   ]
  },
  {
   "cell_type": "code",
   "execution_count": 55,
   "id": "61fcc9b4",
   "metadata": {},
   "outputs": [
    {
     "name": "stdout",
     "output_type": "stream",
     "text": [
      "<class 'pandas.core.frame.DataFrame'>\n",
      "Int64Index: 35000 entries, 38094 to 15795\n",
      "Data columns (total 11 columns):\n",
      " #   Column             Non-Null Count  Dtype \n",
      "---  ------             --------------  ----- \n",
      " 0   Title              35000 non-null  object\n",
      " 1   Body               35000 non-null  object\n",
      " 2   Tags               35000 non-null  object\n",
      " 3   Body_trf           35000 non-null  object\n",
      " 4   Title_trf          35000 non-null  object\n",
      " 5   Title_body         35000 non-null  object\n",
      " 6   Tags_trf_list      35000 non-null  object\n",
      " 7   Tags_trf_text      35000 non-null  object\n",
      " 8   Tags_trf_list_100  35000 non-null  object\n",
      " 9   Tags_trf_text_100  35000 non-null  object\n",
      " 10  Title_body_text    35000 non-null  object\n",
      "dtypes: object(11)\n",
      "memory usage: 3.2+ MB\n"
     ]
    }
   ],
   "source": [
    "raw_data_train.info()"
   ]
  },
  {
   "cell_type": "code",
   "execution_count": 56,
   "id": "381cc391",
   "metadata": {},
   "outputs": [
    {
     "data": {
      "text/html": [
       "<div>\n",
       "<style scoped>\n",
       "    .dataframe tbody tr th:only-of-type {\n",
       "        vertical-align: middle;\n",
       "    }\n",
       "\n",
       "    .dataframe tbody tr th {\n",
       "        vertical-align: top;\n",
       "    }\n",
       "\n",
       "    .dataframe thead th {\n",
       "        text-align: right;\n",
       "    }\n",
       "</style>\n",
       "<table border=\"1\" class=\"dataframe\">\n",
       "  <thead>\n",
       "    <tr style=\"text-align: right;\">\n",
       "      <th></th>\n",
       "      <th>Tags</th>\n",
       "      <th>Frequency</th>\n",
       "    </tr>\n",
       "  </thead>\n",
       "  <tbody>\n",
       "    <tr>\n",
       "      <th>0</th>\n",
       "      <td>c#</td>\n",
       "      <td>4626</td>\n",
       "    </tr>\n",
       "    <tr>\n",
       "      <th>1</th>\n",
       "      <td>java</td>\n",
       "      <td>4239</td>\n",
       "    </tr>\n",
       "    <tr>\n",
       "      <th>2</th>\n",
       "      <td>javascript</td>\n",
       "      <td>3764</td>\n",
       "    </tr>\n",
       "    <tr>\n",
       "      <th>3</th>\n",
       "      <td>python</td>\n",
       "      <td>2993</td>\n",
       "    </tr>\n",
       "    <tr>\n",
       "      <th>4</th>\n",
       "      <td>c++</td>\n",
       "      <td>2316</td>\n",
       "    </tr>\n",
       "    <tr>\n",
       "      <th>...</th>\n",
       "      <td>...</td>\n",
       "      <td>...</td>\n",
       "    </tr>\n",
       "    <tr>\n",
       "      <th>95</th>\n",
       "      <td>wcf</td>\n",
       "      <td>209</td>\n",
       "    </tr>\n",
       "    <tr>\n",
       "      <th>96</th>\n",
       "      <td>mongodb</td>\n",
       "      <td>206</td>\n",
       "    </tr>\n",
       "    <tr>\n",
       "      <th>97</th>\n",
       "      <td>python-2.7</td>\n",
       "      <td>204</td>\n",
       "    </tr>\n",
       "    <tr>\n",
       "      <th>98</th>\n",
       "      <td>ssl</td>\n",
       "      <td>203</td>\n",
       "    </tr>\n",
       "    <tr>\n",
       "      <th>99</th>\n",
       "      <td>scala</td>\n",
       "      <td>202</td>\n",
       "    </tr>\n",
       "  </tbody>\n",
       "</table>\n",
       "<p>100 rows × 2 columns</p>\n",
       "</div>"
      ],
      "text/plain": [
       "          Tags  Frequency\n",
       "0           c#       4626\n",
       "1         java       4239\n",
       "2   javascript       3764\n",
       "3       python       2993\n",
       "4          c++       2316\n",
       "..         ...        ...\n",
       "95         wcf        209\n",
       "96     mongodb        206\n",
       "97  python-2.7        204\n",
       "98         ssl        203\n",
       "99       scala        202\n",
       "\n",
       "[100 rows x 2 columns]"
      ]
     },
     "execution_count": 56,
     "metadata": {},
     "output_type": "execute_result"
    }
   ],
   "source": [
    "# Calcul de fréquence des différents tags sur les données de train\n",
    "freq_tags = raw_data_train['Tags_trf_text_100'].str.cat(sep=' ')\n",
    "words = freq_tags.split()\n",
    "Word_dist = nltk.FreqDist(words)\n",
    "df_freq_tags = pd.DataFrame(Word_dist.most_common(),columns=['Tags', 'Frequency'])\n",
    "df_freq_tags"
   ]
  },
  {
   "cell_type": "code",
   "execution_count": 57,
   "id": "33b32503",
   "metadata": {},
   "outputs": [
    {
     "data": {
      "image/png": "[encoded data removed]",
      "text/plain": [
       "<Figure size 1440x360 with 1 Axes>"
      ]
     },
     "metadata": {
      "needs_background": "light"
     },
     "output_type": "display_data"
    }
   ],
   "source": [
    "#Préparation d'un graphe d'affichage des 100 tags les plus fréquents sur le jeu d'entraînement\n",
    "plt.rcParams[\"figure.figsize\"] = [20, 5]\n",
    "plt.bar('Tags', 'Frequency', data=df_freq_tags[:100], color='g')\n",
    "plt.xlabel('Tag', fontsize=14)\n",
    "plt.xticks(rotation=90)\n",
    "plt.title('Fréquence d\\'apparition des 100 tags les plus fréquents sur le jeu d\\'entrainement')\n",
    "plt.show()"
   ]
  },
  {
   "cell_type": "code",
   "execution_count": 58,
   "id": "6161dbb8",
   "metadata": {},
   "outputs": [
    {
     "data": {
      "text/html": [
       "<div>\n",
       "<style scoped>\n",
       "    .dataframe tbody tr th:only-of-type {\n",
       "        vertical-align: middle;\n",
       "    }\n",
       "\n",
       "    .dataframe tbody tr th {\n",
       "        vertical-align: top;\n",
       "    }\n",
       "\n",
       "    .dataframe thead th {\n",
       "        text-align: right;\n",
       "    }\n",
       "</style>\n",
       "<table border=\"1\" class=\"dataframe\">\n",
       "  <thead>\n",
       "    <tr style=\"text-align: right;\">\n",
       "      <th></th>\n",
       "      <th>Tags</th>\n",
       "      <th>Frequency</th>\n",
       "    </tr>\n",
       "  </thead>\n",
       "  <tbody>\n",
       "    <tr>\n",
       "      <th>0</th>\n",
       "      <td>c#</td>\n",
       "      <td>1949</td>\n",
       "    </tr>\n",
       "    <tr>\n",
       "      <th>1</th>\n",
       "      <td>java</td>\n",
       "      <td>1857</td>\n",
       "    </tr>\n",
       "    <tr>\n",
       "      <th>2</th>\n",
       "      <td>javascript</td>\n",
       "      <td>1541</td>\n",
       "    </tr>\n",
       "    <tr>\n",
       "      <th>3</th>\n",
       "      <td>python</td>\n",
       "      <td>1390</td>\n",
       "    </tr>\n",
       "    <tr>\n",
       "      <th>4</th>\n",
       "      <td>c++</td>\n",
       "      <td>972</td>\n",
       "    </tr>\n",
       "    <tr>\n",
       "      <th>...</th>\n",
       "      <td>...</td>\n",
       "      <td>...</td>\n",
       "    </tr>\n",
       "    <tr>\n",
       "      <th>95</th>\n",
       "      <td>winapi</td>\n",
       "      <td>91</td>\n",
       "    </tr>\n",
       "    <tr>\n",
       "      <th>96</th>\n",
       "      <td>docker</td>\n",
       "      <td>86</td>\n",
       "    </tr>\n",
       "    <tr>\n",
       "      <th>97</th>\n",
       "      <td>spring-mvc</td>\n",
       "      <td>84</td>\n",
       "    </tr>\n",
       "    <tr>\n",
       "      <th>98</th>\n",
       "      <td>qt</td>\n",
       "      <td>81</td>\n",
       "    </tr>\n",
       "    <tr>\n",
       "      <th>99</th>\n",
       "      <td>excel</td>\n",
       "      <td>80</td>\n",
       "    </tr>\n",
       "  </tbody>\n",
       "</table>\n",
       "<p>100 rows × 2 columns</p>\n",
       "</div>"
      ],
      "text/plain": [
       "          Tags  Frequency\n",
       "0           c#       1949\n",
       "1         java       1857\n",
       "2   javascript       1541\n",
       "3       python       1390\n",
       "4          c++        972\n",
       "..         ...        ...\n",
       "95      winapi         91\n",
       "96      docker         86\n",
       "97  spring-mvc         84\n",
       "98          qt         81\n",
       "99       excel         80\n",
       "\n",
       "[100 rows x 2 columns]"
      ]
     },
     "execution_count": 58,
     "metadata": {},
     "output_type": "execute_result"
    }
   ],
   "source": [
    "# Calcul de fréquence des différents tags sur les données de test\n",
    "freq_tags = raw_data_test['Tags_trf_text_100'].str.cat(sep=' ')\n",
    "words = freq_tags.split()\n",
    "Word_dist = nltk.FreqDist(words)\n",
    "df_freq_tags = pd.DataFrame(Word_dist.most_common(),columns=['Tags', 'Frequency'])\n",
    "df_freq_tags"
   ]
  },
  {
   "cell_type": "code",
   "execution_count": 59,
   "id": "d2d1b60f",
   "metadata": {},
   "outputs": [
    {
     "data": {
      "image/png": "[encoded data removed]",
      "text/plain": [
       "<Figure size 1440x360 with 1 Axes>"
      ]
     },
     "metadata": {
      "needs_background": "light"
     },
     "output_type": "display_data"
    }
   ],
   "source": [
    "#Préparation d'un graphe d'affichage des 100 tags les plus fréquents sur le jeu de test\n",
    "plt.rcParams[\"figure.figsize\"] = [20, 5]\n",
    "plt.bar('Tags', 'Frequency', data=df_freq_tags[:100], color='g')\n",
    "plt.xlabel('Tag', fontsize=14)\n",
    "plt.xticks(rotation=90)\n",
    "plt.title('Fréquence d\\'apparition des 100 tags les plus fréquents sur le jeu de test')\n",
    "plt.show()"
   ]
  },
  {
   "cell_type": "code",
   "execution_count": 60,
   "id": "9e58d4a2",
   "metadata": {},
   "outputs": [],
   "source": [
    "df_freq_tags= df_freq_tags.set_index('Tags')"
   ]
  },
  {
   "cell_type": "code",
   "execution_count": 61,
   "id": "18e8bf74",
   "metadata": {},
   "outputs": [
    {
     "data": {
      "text/plain": [
       "<matplotlib.image.AxesImage at 0x1cedddfc220>"
      ]
     },
     "execution_count": 61,
     "metadata": {},
     "output_type": "execute_result"
    },
    {
     "data": {
      "image/png": "[encoded data removed]",
      "text/plain": [
       "<Figure size 1440x360 with 1 Axes>"
      ]
     },
     "metadata": {
      "needs_background": "light"
     },
     "output_type": "display_data"
    }
   ],
   "source": [
    "# Affichage du nuage de tags réels sur le jeu de tests\n",
    "cloud_generator = WordCloud(background_color = 'white', random_state=1)\n",
    "wordcloud_image = cloud_generator.fit_words(df_freq_tags['Frequency'])\n",
    "plt.imshow(wordcloud_image, interpolation = \"bilinear\")"
   ]
  },
  {
   "cell_type": "code",
   "execution_count": 62,
   "id": "c5d92fb7",
   "metadata": {},
   "outputs": [],
   "source": [
    "#7 Bag of words : dans un premier temps en utilisant l'équivalent de CountVectorizer côté gensim"
   ]
  },
  {
   "cell_type": "code",
   "execution_count": 63,
   "id": "689fa529",
   "metadata": {},
   "outputs": [],
   "source": [
    "# Plusieurs approches :\n",
    "#      Approche 1 : bow_cv_ft_tt : fit et transform sur title\n",
    "#      Approche 2 : bow_cv_ftb_ttb : fit et transform sur title + body\n",
    "#      Approche 3 : bow_cv_ft_ttb : fit sur title et transform sur title + body\n",
    "\n",
    "# Pour chaque approche seront conservés:\n",
    "#       bow_cv_xx_xx_train  : le bag of word issu de countvectorizer sur les données de train\n",
    "#       bow_cv_xx_xx_test  : le bag of word issu de countvectorizer appliqué sur les données de test\n",
    "#       bow_cv_xx_xx_words  : le dictionnaire du bag of words issu de countvectorizer"
   ]
  },
  {
   "cell_type": "code",
   "execution_count": 64,
   "id": "64a49c91",
   "metadata": {},
   "outputs": [
    {
     "data": {
      "text/html": [
       "<div>\n",
       "<style scoped>\n",
       "    .dataframe tbody tr th:only-of-type {\n",
       "        vertical-align: middle;\n",
       "    }\n",
       "\n",
       "    .dataframe tbody tr th {\n",
       "        vertical-align: top;\n",
       "    }\n",
       "\n",
       "    .dataframe thead th {\n",
       "        text-align: right;\n",
       "    }\n",
       "</style>\n",
       "<table border=\"1\" class=\"dataframe\">\n",
       "  <thead>\n",
       "    <tr style=\"text-align: right;\">\n",
       "      <th></th>\n",
       "      <th>Title</th>\n",
       "      <th>Body</th>\n",
       "      <th>Tags</th>\n",
       "      <th>Body_trf</th>\n",
       "      <th>Title_trf</th>\n",
       "      <th>Title_body</th>\n",
       "      <th>Tags_trf_list</th>\n",
       "      <th>Tags_trf_text</th>\n",
       "      <th>Tags_trf_list_100</th>\n",
       "      <th>Tags_trf_text_100</th>\n",
       "      <th>Title_body_text</th>\n",
       "    </tr>\n",
       "  </thead>\n",
       "  <tbody>\n",
       "    <tr>\n",
       "      <th>38094</th>\n",
       "      <td>Problem converting a Matrix to Data Frame in R...</td>\n",
       "      <td>&lt;p&gt;I am passing data from C# to R over a COM i...</td>\n",
       "      <td>&lt;data-structures&gt;&lt;r&gt;&lt;matrix&gt;&lt;type-conversion&gt;&lt;...</td>\n",
       "      <td>[passing, data, com, interface, data, arrives,...</td>\n",
       "      <td>[problem, converting, matrix, data, frame, thi...</td>\n",
       "      <td>[problem, converting, matrix, data, frame, thi...</td>\n",
       "      <td>[data-structures, r, matrix, type-conversion, ...</td>\n",
       "      <td>data-structures r matrix type-conversion dataf...</td>\n",
       "      <td>[r]</td>\n",
       "      <td>r</td>\n",
       "      <td>problem converting matrix data frame think num...</td>\n",
       "    </tr>\n",
       "    <tr>\n",
       "      <th>40624</th>\n",
       "      <td>Launch a batch file stored in different direct...</td>\n",
       "      <td>&lt;p&gt;I have created a Python script which needs ...</td>\n",
       "      <td>&lt;python&gt;&lt;batch-file&gt;&lt;subprocess&gt;&lt;call&gt;&lt;popen&gt;</td>\n",
       "      <td>[created, python, script, need, launch, bat, f...</td>\n",
       "      <td>[launch, batch, file, stored, different, direc...</td>\n",
       "      <td>[launch, batch, file, stored, different, direc...</td>\n",
       "      <td>[python, batch-file, subprocess, call, popen]</td>\n",
       "      <td>python batch-file subprocess call popen</td>\n",
       "      <td>[python]</td>\n",
       "      <td>python</td>\n",
       "      <td>launch batch file stored different directory p...</td>\n",
       "    </tr>\n",
       "    <tr>\n",
       "      <th>49425</th>\n",
       "      <td>Is making a function template specialization v...</td>\n",
       "      <td>&lt;p&gt;In C++, a function template specialization ...</td>\n",
       "      <td>&lt;c++&gt;&lt;templates&gt;&lt;virtual&gt;&lt;specialization&gt;&lt;c1001&gt;</td>\n",
       "      <td>[function, template, specialization, supposed,...</td>\n",
       "      <td>[making, function, template, specialization, v...</td>\n",
       "      <td>[making, function, template, specialization, v...</td>\n",
       "      <td>[c++, templates, virtual, specialization, c1001]</td>\n",
       "      <td>c++ templates virtual specialization c1001</td>\n",
       "      <td>[c++]</td>\n",
       "      <td>c++</td>\n",
       "      <td>making function template specialization virtua...</td>\n",
       "    </tr>\n",
       "  </tbody>\n",
       "</table>\n",
       "</div>"
      ],
      "text/plain": [
       "                                                   Title  \\\n",
       "38094  Problem converting a Matrix to Data Frame in R...   \n",
       "40624  Launch a batch file stored in different direct...   \n",
       "49425  Is making a function template specialization v...   \n",
       "\n",
       "                                                    Body  \\\n",
       "38094  <p>I am passing data from C# to R over a COM i...   \n",
       "40624  <p>I have created a Python script which needs ...   \n",
       "49425  <p>In C++, a function template specialization ...   \n",
       "\n",
       "                                                    Tags  \\\n",
       "38094  <data-structures><r><matrix><type-conversion><...   \n",
       "40624      <python><batch-file><subprocess><call><popen>   \n",
       "49425   <c++><templates><virtual><specialization><c1001>   \n",
       "\n",
       "                                                Body_trf  \\\n",
       "38094  [passing, data, com, interface, data, arrives,...   \n",
       "40624  [created, python, script, need, launch, bat, f...   \n",
       "49425  [function, template, specialization, supposed,...   \n",
       "\n",
       "                                               Title_trf  \\\n",
       "38094  [problem, converting, matrix, data, frame, thi...   \n",
       "40624  [launch, batch, file, stored, different, direc...   \n",
       "49425  [making, function, template, specialization, v...   \n",
       "\n",
       "                                              Title_body  \\\n",
       "38094  [problem, converting, matrix, data, frame, thi...   \n",
       "40624  [launch, batch, file, stored, different, direc...   \n",
       "49425  [making, function, template, specialization, v...   \n",
       "\n",
       "                                           Tags_trf_list  \\\n",
       "38094  [data-structures, r, matrix, type-conversion, ...   \n",
       "40624      [python, batch-file, subprocess, call, popen]   \n",
       "49425   [c++, templates, virtual, specialization, c1001]   \n",
       "\n",
       "                                           Tags_trf_text Tags_trf_list_100  \\\n",
       "38094  data-structures r matrix type-conversion dataf...               [r]   \n",
       "40624            python batch-file subprocess call popen          [python]   \n",
       "49425         c++ templates virtual specialization c1001             [c++]   \n",
       "\n",
       "      Tags_trf_text_100                                    Title_body_text  \n",
       "38094                 r  problem converting matrix data frame think num...  \n",
       "40624            python  launch batch file stored different directory p...  \n",
       "49425               c++  making function template specialization virtua...  "
      ]
     },
     "execution_count": 64,
     "metadata": {},
     "output_type": "execute_result"
    }
   ],
   "source": [
    "# Illustration de ce bag of words si on l'appliquait aux 3 premières lignes des données d'entraînement\n",
    "example = raw_data_train.head(3).copy()\n",
    "example"
   ]
  },
  {
   "cell_type": "code",
   "execution_count": 65,
   "id": "fe7111d4",
   "metadata": {},
   "outputs": [],
   "source": [
    "id2word = corpora.Dictionary(example['Title_trf'])\n",
    "texts = example['Title_trf']\n",
    "corpus = [id2word.doc2bow(text) for text in texts]"
   ]
  },
  {
   "cell_type": "code",
   "execution_count": 66,
   "id": "5a4a5b55",
   "metadata": {},
   "outputs": [
    {
     "name": "stdout",
     "output_type": "stream",
     "text": [
      "[[(0, 1), (1, 1), (2, 1), (3, 1), (4, 1), (5, 1), (6, 1), (7, 1), (8, 1)], [(9, 1), (10, 1), (11, 1), (12, 2), (13, 1), (14, 1), (15, 1), (16, 1), (17, 1)], [(18, 1), (19, 1), (20, 1), (21, 1), (22, 1), (23, 1)]]\n"
     ]
    }
   ],
   "source": [
    "print(corpus)"
   ]
  },
  {
   "cell_type": "code",
   "execution_count": 67,
   "id": "58bf0fd9",
   "metadata": {},
   "outputs": [
    {
     "data": {
      "text/html": [
       "<div>\n",
       "<style scoped>\n",
       "    .dataframe tbody tr th:only-of-type {\n",
       "        vertical-align: middle;\n",
       "    }\n",
       "\n",
       "    .dataframe tbody tr th {\n",
       "        vertical-align: top;\n",
       "    }\n",
       "\n",
       "    .dataframe thead th {\n",
       "        text-align: right;\n",
       "    }\n",
       "</style>\n",
       "<table border=\"1\" class=\"dataframe\">\n",
       "  <thead>\n",
       "    <tr style=\"text-align: right;\">\n",
       "      <th></th>\n",
       "      <th>converting</th>\n",
       "      <th>data</th>\n",
       "      <th>factor</th>\n",
       "      <th>frame</th>\n",
       "      <th>matrix</th>\n",
       "      <th>numeric</th>\n",
       "      <th>problem</th>\n",
       "      <th>think</th>\n",
       "      <th>type</th>\n",
       "      <th>another</th>\n",
       "      <th>...</th>\n",
       "      <th>launch</th>\n",
       "      <th>python</th>\n",
       "      <th>script</th>\n",
       "      <th>stored</th>\n",
       "      <th>function</th>\n",
       "      <th>legal</th>\n",
       "      <th>making</th>\n",
       "      <th>specialization</th>\n",
       "      <th>template</th>\n",
       "      <th>virtual</th>\n",
       "    </tr>\n",
       "  </thead>\n",
       "  <tbody>\n",
       "    <tr>\n",
       "      <th>0</th>\n",
       "      <td>1.0</td>\n",
       "      <td>1.0</td>\n",
       "      <td>1.0</td>\n",
       "      <td>1.0</td>\n",
       "      <td>1.0</td>\n",
       "      <td>1.0</td>\n",
       "      <td>1.0</td>\n",
       "      <td>1.0</td>\n",
       "      <td>1.0</td>\n",
       "      <td>0.0</td>\n",
       "      <td>...</td>\n",
       "      <td>0.0</td>\n",
       "      <td>0.0</td>\n",
       "      <td>0.0</td>\n",
       "      <td>0.0</td>\n",
       "      <td>0.0</td>\n",
       "      <td>0.0</td>\n",
       "      <td>0.0</td>\n",
       "      <td>0.0</td>\n",
       "      <td>0.0</td>\n",
       "      <td>0.0</td>\n",
       "    </tr>\n",
       "    <tr>\n",
       "      <th>1</th>\n",
       "      <td>0.0</td>\n",
       "      <td>0.0</td>\n",
       "      <td>0.0</td>\n",
       "      <td>0.0</td>\n",
       "      <td>0.0</td>\n",
       "      <td>0.0</td>\n",
       "      <td>0.0</td>\n",
       "      <td>0.0</td>\n",
       "      <td>0.0</td>\n",
       "      <td>1.0</td>\n",
       "      <td>...</td>\n",
       "      <td>1.0</td>\n",
       "      <td>1.0</td>\n",
       "      <td>1.0</td>\n",
       "      <td>1.0</td>\n",
       "      <td>0.0</td>\n",
       "      <td>0.0</td>\n",
       "      <td>0.0</td>\n",
       "      <td>0.0</td>\n",
       "      <td>0.0</td>\n",
       "      <td>0.0</td>\n",
       "    </tr>\n",
       "    <tr>\n",
       "      <th>2</th>\n",
       "      <td>0.0</td>\n",
       "      <td>0.0</td>\n",
       "      <td>0.0</td>\n",
       "      <td>0.0</td>\n",
       "      <td>0.0</td>\n",
       "      <td>0.0</td>\n",
       "      <td>0.0</td>\n",
       "      <td>0.0</td>\n",
       "      <td>0.0</td>\n",
       "      <td>0.0</td>\n",
       "      <td>...</td>\n",
       "      <td>0.0</td>\n",
       "      <td>0.0</td>\n",
       "      <td>0.0</td>\n",
       "      <td>0.0</td>\n",
       "      <td>1.0</td>\n",
       "      <td>1.0</td>\n",
       "      <td>1.0</td>\n",
       "      <td>1.0</td>\n",
       "      <td>1.0</td>\n",
       "      <td>1.0</td>\n",
       "    </tr>\n",
       "  </tbody>\n",
       "</table>\n",
       "<p>3 rows × 24 columns</p>\n",
       "</div>"
      ],
      "text/plain": [
       "   converting  data  factor  frame  matrix  numeric  problem  think  type  \\\n",
       "0         1.0   1.0     1.0    1.0     1.0      1.0      1.0    1.0   1.0   \n",
       "1         0.0   0.0     0.0    0.0     0.0      0.0      0.0    0.0   0.0   \n",
       "2         0.0   0.0     0.0    0.0     0.0      0.0      0.0    0.0   0.0   \n",
       "\n",
       "   another  ...  launch  python  script  stored  function  legal  making  \\\n",
       "0      0.0  ...     0.0     0.0     0.0     0.0       0.0    0.0     0.0   \n",
       "1      1.0  ...     1.0     1.0     1.0     1.0       0.0    0.0     0.0   \n",
       "2      0.0  ...     0.0     0.0     0.0     0.0       1.0    1.0     1.0   \n",
       "\n",
       "   specialization  template  virtual  \n",
       "0             0.0       0.0      0.0  \n",
       "1             0.0       0.0      0.0  \n",
       "2             1.0       1.0      1.0  \n",
       "\n",
       "[3 rows x 24 columns]"
      ]
     },
     "execution_count": 67,
     "metadata": {},
     "output_type": "execute_result"
    }
   ],
   "source": [
    "all_topics_csr = gensim.matutils.corpus2csc(corpus)\n",
    "all_topics_numpy = all_topics_csr.T.toarray()\n",
    "example_df=pd.DataFrame(all_topics_numpy,columns=list(id2word))\n",
    "for k in range(len(id2word)):\n",
    "    example_df = example_df.rename(columns={k: id2word[k]})\n",
    "example_df"
   ]
  },
  {
   "cell_type": "code",
   "execution_count": 68,
   "id": "e5f4ce23",
   "metadata": {},
   "outputs": [],
   "source": [
    "#      Approche 1 : bow_cv_ft_tt : fit et transform sur title\n",
    "id2word = corpora.Dictionary(raw_data_train['Title_trf'])\n",
    "texts = raw_data_train['Title_trf']\n",
    "bow_cv_ft_tt_train = [id2word.doc2bow(text) for text in texts]\n",
    "texts = raw_data_test['Title_trf']\n",
    "bow_cv_ft_tt_test = [id2word.doc2bow(text) for text in texts]\n",
    "bow_cv_ft_tt_words = id2word"
   ]
  },
  {
   "cell_type": "code",
   "execution_count": 69,
   "id": "044a847d",
   "metadata": {},
   "outputs": [
    {
     "data": {
      "text/plain": [
       "17542"
      ]
     },
     "execution_count": 69,
     "metadata": {},
     "output_type": "execute_result"
    }
   ],
   "source": [
    "len(bow_cv_ft_tt_words)"
   ]
  },
  {
   "cell_type": "code",
   "execution_count": 70,
   "id": "81f102ad",
   "metadata": {},
   "outputs": [
    {
     "name": "stdout",
     "output_type": "stream",
     "text": [
      "Dictionary(17542 unique tokens: ['converting', 'data', 'factor', 'frame', 'matrix']...)\n"
     ]
    }
   ],
   "source": [
    "print(bow_cv_ft_tt_words)"
   ]
  },
  {
   "cell_type": "code",
   "execution_count": 71,
   "id": "896062a9",
   "metadata": {},
   "outputs": [
    {
     "data": {
      "text/plain": [
       "35000"
      ]
     },
     "execution_count": 71,
     "metadata": {},
     "output_type": "execute_result"
    }
   ],
   "source": [
    "len(bow_cv_ft_tt_train)"
   ]
  },
  {
   "cell_type": "code",
   "execution_count": 72,
   "id": "b83ee6ee",
   "metadata": {},
   "outputs": [
    {
     "data": {
      "text/plain": [
       "[(0, 1), (1, 1), (2, 1), (3, 1), (4, 1), (5, 1), (6, 1), (7, 1), (8, 1)]"
      ]
     },
     "execution_count": 72,
     "metadata": {},
     "output_type": "execute_result"
    }
   ],
   "source": [
    "bow_cv_ft_tt_train[0]"
   ]
  },
  {
   "cell_type": "code",
   "execution_count": 73,
   "id": "938de521",
   "metadata": {},
   "outputs": [],
   "source": [
    "#      Approche 2 : bow_cv_ftb_ttb : fit et transform sur title + body\n",
    "id2word = corpora.Dictionary(raw_data_train['Title_body'])\n",
    "texts = raw_data_train['Title_body']\n",
    "bow_cv_ftb_ttb_train = [id2word.doc2bow(text) for text in texts]\n",
    "texts = raw_data_test['Title_body']\n",
    "bow_cv_ftb_ttb_test = [id2word.doc2bow(text) for text in texts]\n",
    "bow_cv_ftb_ttb_words = id2word"
   ]
  },
  {
   "cell_type": "code",
   "execution_count": 74,
   "id": "40736b44",
   "metadata": {},
   "outputs": [
    {
     "data": {
      "text/plain": [
       "203368"
      ]
     },
     "execution_count": 74,
     "metadata": {},
     "output_type": "execute_result"
    }
   ],
   "source": [
    "len(bow_cv_ftb_ttb_words)"
   ]
  },
  {
   "cell_type": "code",
   "execution_count": 75,
   "id": "3f255013",
   "metadata": {},
   "outputs": [],
   "source": [
    "#      Approche 3 : bow_cv_ft_ttb : fit sur title et transform sur title + body\n",
    "id2word = corpora.Dictionary(raw_data_train['Title_trf'])\n",
    "texts = raw_data_train['Title_body']\n",
    "bow_cv_ft_ttb_train = [id2word.doc2bow(text) for text in texts]\n",
    "texts = raw_data_test['Title_body']\n",
    "bow_cv_ft_ttb_test = [id2word.doc2bow(text) for text in texts]\n",
    "bow_cv_ft_ttb_words = id2word"
   ]
  },
  {
   "cell_type": "code",
   "execution_count": 76,
   "id": "30c083de",
   "metadata": {},
   "outputs": [
    {
     "data": {
      "text/plain": [
       "17542"
      ]
     },
     "execution_count": 76,
     "metadata": {},
     "output_type": "execute_result"
    }
   ],
   "source": [
    "len(bow_cv_ft_ttb_words)"
   ]
  },
  {
   "cell_type": "code",
   "execution_count": 77,
   "id": "391cec99",
   "metadata": {},
   "outputs": [],
   "source": [
    "#8 Bag of words : en utilisant tfidfmodel"
   ]
  },
  {
   "cell_type": "code",
   "execution_count": 78,
   "id": "f794c884",
   "metadata": {},
   "outputs": [],
   "source": [
    "# Plusieurs approches :\n",
    "#      Approche 1 : bow_tv_ft_tt : fit et transform sur title\n",
    "#      Approche 2 : bow_tv_ftb_ttb : fit et transform sur title + body\n",
    "#      Approche 3 : bow_tv_ft_ttb : fit sur title et transform sur title + body\n",
    "\n",
    "# Pour chaque approche seront conservés:\n",
    "#       bow_tv_xx_xx_train  : le bag of word issu de tfidfVectorizer sur les données de train\n",
    "#       bow_tv_xx_xx_test  : le bag of word issu de tfidfVectorizer appliqué sur les données de test\n",
    "#       bow_tv_xx_xx_words  : le dictionnaire du bag of words issu de tfidfVectorizer"
   ]
  },
  {
   "cell_type": "code",
   "execution_count": 79,
   "id": "a1969c68",
   "metadata": {},
   "outputs": [
    {
     "data": {
      "text/html": [
       "<div>\n",
       "<style scoped>\n",
       "    .dataframe tbody tr th:only-of-type {\n",
       "        vertical-align: middle;\n",
       "    }\n",
       "\n",
       "    .dataframe tbody tr th {\n",
       "        vertical-align: top;\n",
       "    }\n",
       "\n",
       "    .dataframe thead th {\n",
       "        text-align: right;\n",
       "    }\n",
       "</style>\n",
       "<table border=\"1\" class=\"dataframe\">\n",
       "  <thead>\n",
       "    <tr style=\"text-align: right;\">\n",
       "      <th></th>\n",
       "      <th>Title</th>\n",
       "      <th>Body</th>\n",
       "      <th>Tags</th>\n",
       "      <th>Body_trf</th>\n",
       "      <th>Title_trf</th>\n",
       "      <th>Title_body</th>\n",
       "      <th>Tags_trf_list</th>\n",
       "      <th>Tags_trf_text</th>\n",
       "      <th>Tags_trf_list_100</th>\n",
       "      <th>Tags_trf_text_100</th>\n",
       "      <th>Title_body_text</th>\n",
       "    </tr>\n",
       "  </thead>\n",
       "  <tbody>\n",
       "    <tr>\n",
       "      <th>38094</th>\n",
       "      <td>Problem converting a Matrix to Data Frame in R...</td>\n",
       "      <td>&lt;p&gt;I am passing data from C# to R over a COM i...</td>\n",
       "      <td>&lt;data-structures&gt;&lt;r&gt;&lt;matrix&gt;&lt;type-conversion&gt;&lt;...</td>\n",
       "      <td>[passing, data, com, interface, data, arrives,...</td>\n",
       "      <td>[problem, converting, matrix, data, frame, thi...</td>\n",
       "      <td>[problem, converting, matrix, data, frame, thi...</td>\n",
       "      <td>[data-structures, r, matrix, type-conversion, ...</td>\n",
       "      <td>data-structures r matrix type-conversion dataf...</td>\n",
       "      <td>[r]</td>\n",
       "      <td>r</td>\n",
       "      <td>problem converting matrix data frame think num...</td>\n",
       "    </tr>\n",
       "    <tr>\n",
       "      <th>40624</th>\n",
       "      <td>Launch a batch file stored in different direct...</td>\n",
       "      <td>&lt;p&gt;I have created a Python script which needs ...</td>\n",
       "      <td>&lt;python&gt;&lt;batch-file&gt;&lt;subprocess&gt;&lt;call&gt;&lt;popen&gt;</td>\n",
       "      <td>[created, python, script, need, launch, bat, f...</td>\n",
       "      <td>[launch, batch, file, stored, different, direc...</td>\n",
       "      <td>[launch, batch, file, stored, different, direc...</td>\n",
       "      <td>[python, batch-file, subprocess, call, popen]</td>\n",
       "      <td>python batch-file subprocess call popen</td>\n",
       "      <td>[python]</td>\n",
       "      <td>python</td>\n",
       "      <td>launch batch file stored different directory p...</td>\n",
       "    </tr>\n",
       "    <tr>\n",
       "      <th>49425</th>\n",
       "      <td>Is making a function template specialization v...</td>\n",
       "      <td>&lt;p&gt;In C++, a function template specialization ...</td>\n",
       "      <td>&lt;c++&gt;&lt;templates&gt;&lt;virtual&gt;&lt;specialization&gt;&lt;c1001&gt;</td>\n",
       "      <td>[function, template, specialization, supposed,...</td>\n",
       "      <td>[making, function, template, specialization, v...</td>\n",
       "      <td>[making, function, template, specialization, v...</td>\n",
       "      <td>[c++, templates, virtual, specialization, c1001]</td>\n",
       "      <td>c++ templates virtual specialization c1001</td>\n",
       "      <td>[c++]</td>\n",
       "      <td>c++</td>\n",
       "      <td>making function template specialization virtua...</td>\n",
       "    </tr>\n",
       "  </tbody>\n",
       "</table>\n",
       "</div>"
      ],
      "text/plain": [
       "                                                   Title  \\\n",
       "38094  Problem converting a Matrix to Data Frame in R...   \n",
       "40624  Launch a batch file stored in different direct...   \n",
       "49425  Is making a function template specialization v...   \n",
       "\n",
       "                                                    Body  \\\n",
       "38094  <p>I am passing data from C# to R over a COM i...   \n",
       "40624  <p>I have created a Python script which needs ...   \n",
       "49425  <p>In C++, a function template specialization ...   \n",
       "\n",
       "                                                    Tags  \\\n",
       "38094  <data-structures><r><matrix><type-conversion><...   \n",
       "40624      <python><batch-file><subprocess><call><popen>   \n",
       "49425   <c++><templates><virtual><specialization><c1001>   \n",
       "\n",
       "                                                Body_trf  \\\n",
       "38094  [passing, data, com, interface, data, arrives,...   \n",
       "40624  [created, python, script, need, launch, bat, f...   \n",
       "49425  [function, template, specialization, supposed,...   \n",
       "\n",
       "                                               Title_trf  \\\n",
       "38094  [problem, converting, matrix, data, frame, thi...   \n",
       "40624  [launch, batch, file, stored, different, direc...   \n",
       "49425  [making, function, template, specialization, v...   \n",
       "\n",
       "                                              Title_body  \\\n",
       "38094  [problem, converting, matrix, data, frame, thi...   \n",
       "40624  [launch, batch, file, stored, different, direc...   \n",
       "49425  [making, function, template, specialization, v...   \n",
       "\n",
       "                                           Tags_trf_list  \\\n",
       "38094  [data-structures, r, matrix, type-conversion, ...   \n",
       "40624      [python, batch-file, subprocess, call, popen]   \n",
       "49425   [c++, templates, virtual, specialization, c1001]   \n",
       "\n",
       "                                           Tags_trf_text Tags_trf_list_100  \\\n",
       "38094  data-structures r matrix type-conversion dataf...               [r]   \n",
       "40624            python batch-file subprocess call popen          [python]   \n",
       "49425         c++ templates virtual specialization c1001             [c++]   \n",
       "\n",
       "      Tags_trf_text_100                                    Title_body_text  \n",
       "38094                 r  problem converting matrix data frame think num...  \n",
       "40624            python  launch batch file stored different directory p...  \n",
       "49425               c++  making function template specialization virtua...  "
      ]
     },
     "execution_count": 79,
     "metadata": {},
     "output_type": "execute_result"
    }
   ],
   "source": [
    "# Illustration de ce bag of words si on l'appliquait aux 3 premières lignes des données d'entraînement\n",
    "example = raw_data_train.head(3).copy()\n",
    "example"
   ]
  },
  {
   "cell_type": "code",
   "execution_count": 80,
   "id": "f5248798",
   "metadata": {},
   "outputs": [],
   "source": [
    "id2word = corpora.Dictionary(example['Title_trf'])\n",
    "texts = example['Title_trf']\n",
    "bow_corpus = [id2word.doc2bow(text) for text in texts]\n",
    "tfidf = TfidfModel(bow_corpus)\n",
    "tfidf_corpus = [tfidf[text] for text in bow_corpus]"
   ]
  },
  {
   "cell_type": "code",
   "execution_count": 81,
   "id": "4f312feb",
   "metadata": {},
   "outputs": [
    {
     "name": "stdout",
     "output_type": "stream",
     "text": [
      "[[(0, 0.3333333333333333), (1, 0.3333333333333333), (2, 0.3333333333333333), (3, 0.3333333333333333), (4, 0.3333333333333333), (5, 0.3333333333333333), (6, 0.3333333333333333), (7, 0.3333333333333333), (8, 0.3333333333333333)], [(9, 0.2886751345948129), (10, 0.2886751345948129), (11, 0.2886751345948129), (12, 0.5773502691896258), (13, 0.2886751345948129), (14, 0.2886751345948129), (15, 0.2886751345948129), (16, 0.2886751345948129), (17, 0.2886751345948129)], [(18, 0.408248290463863), (19, 0.408248290463863), (20, 0.408248290463863), (21, 0.408248290463863), (22, 0.408248290463863), (23, 0.408248290463863)]]\n"
     ]
    }
   ],
   "source": [
    "print(tfidf_corpus)"
   ]
  },
  {
   "cell_type": "code",
   "execution_count": 82,
   "id": "f5c3a306",
   "metadata": {},
   "outputs": [
    {
     "data": {
      "text/html": [
       "<div>\n",
       "<style scoped>\n",
       "    .dataframe tbody tr th:only-of-type {\n",
       "        vertical-align: middle;\n",
       "    }\n",
       "\n",
       "    .dataframe tbody tr th {\n",
       "        vertical-align: top;\n",
       "    }\n",
       "\n",
       "    .dataframe thead th {\n",
       "        text-align: right;\n",
       "    }\n",
       "</style>\n",
       "<table border=\"1\" class=\"dataframe\">\n",
       "  <thead>\n",
       "    <tr style=\"text-align: right;\">\n",
       "      <th></th>\n",
       "      <th>converting</th>\n",
       "      <th>data</th>\n",
       "      <th>factor</th>\n",
       "      <th>frame</th>\n",
       "      <th>matrix</th>\n",
       "      <th>numeric</th>\n",
       "      <th>problem</th>\n",
       "      <th>think</th>\n",
       "      <th>type</th>\n",
       "      <th>another</th>\n",
       "      <th>...</th>\n",
       "      <th>launch</th>\n",
       "      <th>python</th>\n",
       "      <th>script</th>\n",
       "      <th>stored</th>\n",
       "      <th>function</th>\n",
       "      <th>legal</th>\n",
       "      <th>making</th>\n",
       "      <th>specialization</th>\n",
       "      <th>template</th>\n",
       "      <th>virtual</th>\n",
       "    </tr>\n",
       "  </thead>\n",
       "  <tbody>\n",
       "    <tr>\n",
       "      <th>0</th>\n",
       "      <td>0.333333</td>\n",
       "      <td>0.333333</td>\n",
       "      <td>0.333333</td>\n",
       "      <td>0.333333</td>\n",
       "      <td>0.333333</td>\n",
       "      <td>0.333333</td>\n",
       "      <td>0.333333</td>\n",
       "      <td>0.333333</td>\n",
       "      <td>0.333333</td>\n",
       "      <td>0.000000</td>\n",
       "      <td>...</td>\n",
       "      <td>0.000000</td>\n",
       "      <td>0.000000</td>\n",
       "      <td>0.000000</td>\n",
       "      <td>0.000000</td>\n",
       "      <td>0.000000</td>\n",
       "      <td>0.000000</td>\n",
       "      <td>0.000000</td>\n",
       "      <td>0.000000</td>\n",
       "      <td>0.000000</td>\n",
       "      <td>0.000000</td>\n",
       "    </tr>\n",
       "    <tr>\n",
       "      <th>1</th>\n",
       "      <td>0.000000</td>\n",
       "      <td>0.000000</td>\n",
       "      <td>0.000000</td>\n",
       "      <td>0.000000</td>\n",
       "      <td>0.000000</td>\n",
       "      <td>0.000000</td>\n",
       "      <td>0.000000</td>\n",
       "      <td>0.000000</td>\n",
       "      <td>0.000000</td>\n",
       "      <td>0.288675</td>\n",
       "      <td>...</td>\n",
       "      <td>0.288675</td>\n",
       "      <td>0.288675</td>\n",
       "      <td>0.288675</td>\n",
       "      <td>0.288675</td>\n",
       "      <td>0.000000</td>\n",
       "      <td>0.000000</td>\n",
       "      <td>0.000000</td>\n",
       "      <td>0.000000</td>\n",
       "      <td>0.000000</td>\n",
       "      <td>0.000000</td>\n",
       "    </tr>\n",
       "    <tr>\n",
       "      <th>2</th>\n",
       "      <td>0.000000</td>\n",
       "      <td>0.000000</td>\n",
       "      <td>0.000000</td>\n",
       "      <td>0.000000</td>\n",
       "      <td>0.000000</td>\n",
       "      <td>0.000000</td>\n",
       "      <td>0.000000</td>\n",
       "      <td>0.000000</td>\n",
       "      <td>0.000000</td>\n",
       "      <td>0.000000</td>\n",
       "      <td>...</td>\n",
       "      <td>0.000000</td>\n",
       "      <td>0.000000</td>\n",
       "      <td>0.000000</td>\n",
       "      <td>0.000000</td>\n",
       "      <td>0.408248</td>\n",
       "      <td>0.408248</td>\n",
       "      <td>0.408248</td>\n",
       "      <td>0.408248</td>\n",
       "      <td>0.408248</td>\n",
       "      <td>0.408248</td>\n",
       "    </tr>\n",
       "  </tbody>\n",
       "</table>\n",
       "<p>3 rows × 24 columns</p>\n",
       "</div>"
      ],
      "text/plain": [
       "   converting      data    factor     frame    matrix   numeric   problem  \\\n",
       "0    0.333333  0.333333  0.333333  0.333333  0.333333  0.333333  0.333333   \n",
       "1    0.000000  0.000000  0.000000  0.000000  0.000000  0.000000  0.000000   \n",
       "2    0.000000  0.000000  0.000000  0.000000  0.000000  0.000000  0.000000   \n",
       "\n",
       "      think      type   another  ...    launch    python    script    stored  \\\n",
       "0  0.333333  0.333333  0.000000  ...  0.000000  0.000000  0.000000  0.000000   \n",
       "1  0.000000  0.000000  0.288675  ...  0.288675  0.288675  0.288675  0.288675   \n",
       "2  0.000000  0.000000  0.000000  ...  0.000000  0.000000  0.000000  0.000000   \n",
       "\n",
       "   function     legal    making  specialization  template   virtual  \n",
       "0  0.000000  0.000000  0.000000        0.000000  0.000000  0.000000  \n",
       "1  0.000000  0.000000  0.000000        0.000000  0.000000  0.000000  \n",
       "2  0.408248  0.408248  0.408248        0.408248  0.408248  0.408248  \n",
       "\n",
       "[3 rows x 24 columns]"
      ]
     },
     "execution_count": 82,
     "metadata": {},
     "output_type": "execute_result"
    }
   ],
   "source": [
    "all_topics_csr = gensim.matutils.corpus2csc(tfidf_corpus)\n",
    "all_topics_numpy = all_topics_csr.T.toarray()\n",
    "example_df=pd.DataFrame(all_topics_numpy,columns=list(id2word))\n",
    "for k in range(len(id2word)):\n",
    "    example_df = example_df.rename(columns={k: id2word[k]})\n",
    "example_df"
   ]
  },
  {
   "cell_type": "code",
   "execution_count": 83,
   "id": "d7c2d275",
   "metadata": {},
   "outputs": [],
   "source": [
    "#      Approche 1 : bow_tv_ft_tt : fit et transform sur title\n",
    "id2word = corpora.Dictionary(raw_data_train['Title_trf'])\n",
    "texts = raw_data_train['Title_trf']\n",
    "bow_corpus = [id2word.doc2bow(text) for text in texts]\n",
    "tfidf = TfidfModel(bow_corpus)\n",
    "bow_tv_ft_tt_train = [tfidf[text] for text in bow_corpus]\n",
    "texts = raw_data_test['Title_trf']\n",
    "bow_corpus = [id2word.doc2bow(text) for text in texts]\n",
    "tfidf = TfidfModel(bow_corpus)\n",
    "bow_tv_ft_tt_test = [tfidf[text] for text in bow_corpus]\n",
    "bow_tv_ft_tt_words=id2word"
   ]
  },
  {
   "cell_type": "code",
   "execution_count": 84,
   "id": "0ac91cd0",
   "metadata": {},
   "outputs": [
    {
     "data": {
      "text/plain": [
       "17542"
      ]
     },
     "execution_count": 84,
     "metadata": {},
     "output_type": "execute_result"
    }
   ],
   "source": [
    "len(bow_tv_ft_tt_words)"
   ]
  },
  {
   "cell_type": "code",
   "execution_count": 85,
   "id": "65062c39",
   "metadata": {},
   "outputs": [
    {
     "name": "stdout",
     "output_type": "stream",
     "text": [
      "Dictionary(17542 unique tokens: ['converting', 'data', 'factor', 'frame', 'matrix']...)\n"
     ]
    }
   ],
   "source": [
    "print(bow_tv_ft_tt_words)"
   ]
  },
  {
   "cell_type": "code",
   "execution_count": 86,
   "id": "89aa7454",
   "metadata": {},
   "outputs": [
    {
     "data": {
      "text/plain": [
       "[(0, 0.30823715713985295),\n",
       " (1, 0.18038193304461622),\n",
       " (2, 0.4532868056057119),\n",
       " (3, 0.31726941705416223),\n",
       " (4, 0.31256489651485947),\n",
       " (5, 0.3875188912802271),\n",
       " (6, 0.2529986418524631),\n",
       " (7, 0.4532868056057119),\n",
       " (8, 0.22131076681329362)]"
      ]
     },
     "execution_count": 86,
     "metadata": {},
     "output_type": "execute_result"
    }
   ],
   "source": [
    "bow_tv_ft_tt_train[0]"
   ]
  },
  {
   "cell_type": "code",
   "execution_count": 87,
   "id": "cd669e69",
   "metadata": {},
   "outputs": [],
   "source": [
    "#      Approche 2 : bow_tv_ftb_ttb : fit et transform sur title + body\n",
    "id2word = corpora.Dictionary(raw_data_train['Title_body'])\n",
    "texts = raw_data_train['Title_body']\n",
    "bow_corpus = [id2word.doc2bow(text) for text in texts]\n",
    "tfidf = TfidfModel(bow_corpus)\n",
    "bow_tv_ftb_ttb_train = [tfidf[text] for text in bow_corpus]\n",
    "texts = raw_data_test['Title_body']\n",
    "bow_corpus = [id2word.doc2bow(text) for text in texts]\n",
    "tfidf = TfidfModel(bow_corpus)\n",
    "bow_tv_ftb_ttb_test = [tfidf[text] for text in bow_corpus]\n",
    "bow_tv_ftb_ttb_words=id2word"
   ]
  },
  {
   "cell_type": "code",
   "execution_count": 88,
   "id": "fb4bdca5",
   "metadata": {},
   "outputs": [
    {
     "data": {
      "text/plain": [
       "203368"
      ]
     },
     "execution_count": 88,
     "metadata": {},
     "output_type": "execute_result"
    }
   ],
   "source": [
    "len(bow_tv_ftb_ttb_words)"
   ]
  },
  {
   "cell_type": "code",
   "execution_count": 89,
   "id": "bd901cd4",
   "metadata": {
    "scrolled": true
   },
   "outputs": [
    {
     "data": {
      "text/plain": [
       "[(0, 0.056046504469395984),\n",
       " (1, 0.17270736662761924),\n",
       " (2, 0.12793290933506962),\n",
       " (3, 0.11873011873020717),\n",
       " (4, 0.05338679581546431),\n",
       " (5, 0.034858668590012985),\n",
       " (6, 0.08670052643556447),\n",
       " (7, 0.05866707080701504),\n",
       " (8, 0.08385755741252335),\n",
       " (9, 0.08375840237455422),\n",
       " (10, 0.3336073648911103),\n",
       " (11, 0.1929688452569432),\n",
       " (12, 0.34633958905134016),\n",
       " (13, 0.1368193492566614),\n",
       " (14, 0.05050847752921752),\n",
       " (15, 0.0694113497059881),\n",
       " (16, 0.29220685723370954),\n",
       " (17, 0.10562011938139215),\n",
       " (18, 0.04476392156382098),\n",
       " (19, 0.07846510683208244),\n",
       " (20, 0.20499212905391961),\n",
       " (21, 0.10898263804675708),\n",
       " (22, 0.06225211144212107),\n",
       " (23, 0.07770184787211742),\n",
       " (24, 0.14714022719043376),\n",
       " (25, 0.1308665065141314),\n",
       " (26, 0.1929688452569432),\n",
       " (27, 0.1801852755383505),\n",
       " (28, 0.0373298339760106),\n",
       " (29, 0.05286089644243987),\n",
       " (30, 0.04834981727978629),\n",
       " (31, 0.06003578028527495),\n",
       " (32, 0.03298612563761158),\n",
       " (33, 0.0683521423339292),\n",
       " (34, 0.16811496248334373),\n",
       " (35, 0.1929688452569432),\n",
       " (36, 0.14566401613063693),\n",
       " (37, 0.11016363093671956),\n",
       " (38, 0.3016762126317687),\n",
       " (39, 0.1929688452569432),\n",
       " (40, 0.09121160559821807),\n",
       " (41, 0.05609057328997671),\n",
       " (42, 0.07633000434627703),\n",
       " (43, 0.06980156647160542),\n",
       " (44, 0.028625295365940405),\n",
       " (45, 0.07642942664979221),\n",
       " (46, 0.06618942785372604),\n",
       " (47, 0.09151028083247573),\n",
       " (48, 0.04425764011821182),\n",
       " (49, 0.06502540019314497),\n",
       " (50, 0.07429783809220472),\n",
       " (51, 0.06135216527725747),\n",
       " (52, 0.06451331273689825),\n",
       " (53, 0.09253601374039781),\n",
       " (54, 0.03391023532961397),\n",
       " (55, 0.04591523882235668),\n",
       " (56, 0.048701119189756566),\n",
       " (57, 0.05952382183163124),\n",
       " (58, 0.07441663265840921),\n",
       " (59, 0.03239684890793014),\n",
       " (60, 0.02061848652752153),\n",
       " (61, 0.043840428046639124),\n",
       " (62, 0.024458725487236974),\n",
       " (63, 0.06679034971621077)]"
      ]
     },
     "execution_count": 89,
     "metadata": {},
     "output_type": "execute_result"
    }
   ],
   "source": [
    "bow_tv_ftb_ttb_train[0]"
   ]
  },
  {
   "cell_type": "code",
   "execution_count": 90,
   "id": "8a01cbf2",
   "metadata": {},
   "outputs": [],
   "source": [
    "#      Approche 3 : bow_tv_ft_ttb : fit sur title et transform sur title + body\n",
    "id2word = corpora.Dictionary(raw_data_train['Title_trf'])\n",
    "texts = raw_data_train['Title_body']\n",
    "bow_corpus = [id2word.doc2bow(text) for text in texts]\n",
    "tfidf = TfidfModel(bow_corpus)\n",
    "bow_tv_ft_ttb_train = [tfidf[text] for text in bow_corpus]\n",
    "texts = raw_data_test['Title_body']\n",
    "bow_corpus = [id2word.doc2bow(text) for text in texts]\n",
    "tfidf = TfidfModel(bow_corpus)\n",
    "bow_tv_ft_ttb_test = [tfidf[text] for text in bow_corpus]\n",
    "bow_tv_ft_ttb_words=id2word"
   ]
  },
  {
   "cell_type": "code",
   "execution_count": 91,
   "id": "1047870b",
   "metadata": {},
   "outputs": [
    {
     "data": {
      "text/plain": [
       "17542"
      ]
     },
     "execution_count": 91,
     "metadata": {},
     "output_type": "execute_result"
    }
   ],
   "source": [
    "len(bow_tv_ft_ttb_words)"
   ]
  },
  {
   "cell_type": "code",
   "execution_count": 92,
   "id": "23c77c21",
   "metadata": {
    "scrolled": true
   },
   "outputs": [
    {
     "data": {
      "text/plain": [
       "[(0, 0.10088456048575133),\n",
       " (1, 0.40134525044993913),\n",
       " (2, 0.35153850496655453),\n",
       " (3, 0.24661511115698972),\n",
       " (4, 0.20225015639053012),\n",
       " (5, 0.3629305820421731),\n",
       " (6, 0.03443756807226582),\n",
       " (7, 0.05858972233657072),\n",
       " (8, 0.03897492323943755),\n",
       " (18, 0.07489219929521217),\n",
       " (43, 0.05274208373653256),\n",
       " (58, 0.077612530125637),\n",
       " (62, 0.0835050974996039),\n",
       " (106, 0.09439719043187861),\n",
       " (120, 0.11132514901882075),\n",
       " (271, 0.06359412877058056),\n",
       " (337, 0.024805002857139654),\n",
       " (378, 0.4166627111302215),\n",
       " (414, 0.053244009356222456),\n",
       " (415, 0.02942498979171371),\n",
       " (418, 0.0722258493376363),\n",
       " (442, 0.07057922787133646),\n",
       " (465, 0.03968385068393661),\n",
       " (495, 0.10430478508105151),\n",
       " (497, 0.05816708972147068),\n",
       " (507, 0.04193660736529798),\n",
       " (622, 0.07822859526690477),\n",
       " (708, 0.09347895423363009),\n",
       " (774, 0.1311112066601031),\n",
       " (904, 0.09182856236162736),\n",
       " (956, 0.0738095220016622),\n",
       " (960, 0.06422681029320476),\n",
       " (1125, 0.1007652723412582),\n",
       " (1263, 0.08397454650465679),\n",
       " (1307, 0.06747958095078085),\n",
       " (1781, 0.06076405888228968),\n",
       " (1928, 0.06742656410015235),\n",
       " (2062, 0.13253199629811452),\n",
       " (2096, 0.053853089595360726),\n",
       " (2357, 0.08035191202460751),\n",
       " (2582, 0.08938377138867393),\n",
       " (2928, 0.07160993939252863),\n",
       " (3906, 0.09194817203906248),\n",
       " (4149, 0.0822308215310378),\n",
       " (4335, 0.089526686803449),\n",
       " (5536, 0.11009114439497467),\n",
       " (6181, 0.1097318241301614),\n",
       " (6378, 0.055238178061933305),\n",
       " (6672, 0.15743852312602896),\n",
       " (6878, 0.12706593956495377),\n",
       " (16403, 0.04079559782986959)]"
      ]
     },
     "execution_count": 92,
     "metadata": {},
     "output_type": "execute_result"
    }
   ],
   "source": [
    "bow_tv_ft_ttb_train[0]"
   ]
  },
  {
   "cell_type": "code",
   "execution_count": 93,
   "id": "fe253cb4",
   "metadata": {},
   "outputs": [],
   "source": [
    "#9 Sauvegarde des différentes objets pour utilisation dans le notebook de modélisation\n",
    "# Objets à conserver :\n",
    "#     raw_data_train, raw_data_test\n",
    "#     bow_cv_ft_tt_train, bow_cv_ft_tt_test, bow_cv_ft_tt_words\n",
    "#     bow_cv_ftb_ttb_train, bow_cv_ftb_ttb_test, bow_cv_ftb_ttb_words\n",
    "#     bow_cv_ft_ttb_train, bow_cv_ft_ttb_test, bow_cv_ft_ttb_words\n",
    "#     bow_tv_ft_tt_train, bow_tv_ft_tt_test, bow_tv_ft_tt_words\n",
    "#     bow_tv_ftb_ttb_train, bow_tv_ftb_ttb_test, bow_tv_ftb_ttb_words\n",
    "#     bow_tv_ft_ttb_train, bow_tv_ft_ttb_test, bow_tv_ft_ttb_words\n",
    "#     Dictionnaire de tags dict_tag"
   ]
  },
  {
   "cell_type": "code",
   "execution_count": 94,
   "id": "a3b12641",
   "metadata": {},
   "outputs": [],
   "source": [
    "raw_data_train.to_pickle('export_raw_data_train.pkl')\n",
    "raw_data_test.to_pickle('export_raw_data_test.pkl')\n",
    "file = open('export_bow_cv_ft_tt_train.pkl', 'wb')\n",
    "pickle.dump(bow_cv_ft_tt_train, file)\n",
    "file.close()\n",
    "file = open('export_bow_cv_ft_tt_test.pkl', 'wb')\n",
    "pickle.dump(bow_cv_ft_tt_test, file)\n",
    "file.close()\n",
    "file = open('export_bow_cv_ft_tt_words.pkl', 'wb')\n",
    "pickle.dump(bow_cv_ft_tt_words, file)\n",
    "file.close()\n",
    "file = open('export_bow_cv_ftb_ttb_train.pkl', 'wb')\n",
    "pickle.dump(bow_cv_ftb_ttb_train, file)\n",
    "file.close()\n",
    "file = open('export_bow_cv_ftb_ttb_test.pkl', 'wb')\n",
    "pickle.dump(bow_cv_ftb_ttb_test, file)\n",
    "file.close()\n",
    "file = open('export_bow_cv_ftb_ttb_words.pkl', 'wb')\n",
    "pickle.dump(bow_cv_ftb_ttb_words, file)\n",
    "file.close()\n",
    "file = open('export_bow_cv_ft_ttb_train.pkl', 'wb')\n",
    "pickle.dump(bow_cv_ft_ttb_train, file)\n",
    "file.close()\n",
    "file = open('export_bow_cv_ft_ttb_test.pkl', 'wb')\n",
    "pickle.dump(bow_cv_ft_ttb_test, file)\n",
    "file.close()\n",
    "file = open('export_bow_cv_ft_ttb_words.pkl', 'wb')\n",
    "pickle.dump(bow_cv_ft_ttb_words, file)\n",
    "file.close()\n",
    "file = open('export_bow_tv_ft_tt_train.pkl', 'wb')\n",
    "pickle.dump(bow_tv_ft_tt_train, file)\n",
    "file.close()\n",
    "file = open('export_bow_tv_ft_tt_test.pkl', 'wb')\n",
    "pickle.dump(bow_tv_ft_tt_test, file)\n",
    "file.close()\n",
    "file = open('export_bow_tv_ft_tt_words.pkl', 'wb')\n",
    "pickle.dump(bow_tv_ft_tt_words, file)\n",
    "file.close()\n",
    "file = open('export_bow_tv_ftb_ttb_train.pkl', 'wb')\n",
    "pickle.dump(bow_tv_ftb_ttb_train, file)\n",
    "file.close()\n",
    "file = open('export_bow_tv_ftb_ttb_test.pkl', 'wb')\n",
    "pickle.dump(bow_tv_ftb_ttb_test, file)\n",
    "file.close()\n",
    "file = open('export_bow_tv_ftb_ttb_words.pkl', 'wb')\n",
    "pickle.dump(bow_tv_ftb_ttb_words, file)\n",
    "file.close()\n",
    "file = open('export_bow_tv_ft_ttb_train.pkl', 'wb')\n",
    "pickle.dump(bow_tv_ft_ttb_train, file)\n",
    "file.close()\n",
    "file = open('export_bow_tv_ft_ttb_test.pkl', 'wb')\n",
    "pickle.dump(bow_tv_ft_ttb_test, file)\n",
    "file.close()\n",
    "file = open('export_bow_tv_ft_ttb_words.pkl', 'wb')\n",
    "pickle.dump(bow_tv_ft_ttb_words, file)\n",
    "file.close()\n",
    "file = open('export_dict_tag.pkl', 'wb')\n",
    "pickle.dump(dict_tag, file)\n",
    "file.close()"
   ]
  },
  {
   "cell_type": "code",
   "execution_count": null,
   "id": "b65d8a37",
   "metadata": {},
   "outputs": [],
   "source": []
  }
 ],
 "metadata": {
  "kernelspec": {
   "display_name": "Python 3 (ipykernel)",
   "language": "python",
   "name": "python3"
  },
  "language_info": {
   "codemirror_mode": {
    "name": "ipython",
    "version": 3
   },
   "file_extension": ".py",
   "mimetype": "text/x-python",
   "name": "python",
   "nbconvert_exporter": "python",
   "pygments_lexer": "ipython3",
   "version": "3.9.7"
  }
 },
 "nbformat": 4,
 "nbformat_minor": 5
}
